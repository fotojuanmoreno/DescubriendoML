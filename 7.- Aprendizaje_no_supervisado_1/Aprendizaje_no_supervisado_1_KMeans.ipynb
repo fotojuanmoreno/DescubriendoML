{
  "nbformat": 4,
  "nbformat_minor": 0,
  "metadata": {
    "colab": {
      "name": "Aprendizaje_no_supervisado_1_KMeans.ipynb",
      "provenance": [],
      "collapsed_sections": [],
      "authorship_tag": "ABX9TyPd9zEEAd3Nag63slZYBcMM",
      "include_colab_link": true
    },
    "kernelspec": {
      "name": "python3",
      "display_name": "Python 3"
    }
  },
  "cells": [
    {
      "cell_type": "markdown",
      "metadata": {
        "id": "view-in-github",
        "colab_type": "text"
      },
      "source": [
        "<a href=\"https://colab.research.google.com/github/fotojuanmoreno/DescubriendoML/blob/master/7.-%20Aprendizaje_no_supervisado_1/Aprendizaje_no_supervisado_1_KMeans.ipynb\" target=\"_parent\"><img src=\"https://colab.research.google.com/assets/colab-badge.svg\" alt=\"Open In Colab\"/></a>"
      ]
    },
    {
      "cell_type": "markdown",
      "metadata": {
        "id": "ZtXpNk5FAYNw",
        "colab_type": "text"
      },
      "source": [
        "Creo que todos los ejercicios realizados hasta ahora han estado basados en la aplicación de sprendizaje supervisado. Ahora vamos a plicar un agoritmo de aprendizaje no supervisado utilizando la misma db iris.\n",
        "\n",
        "el proposito de este ejercicio es ver como funciona y como nuestro algoritmo utilizando los datos disponibles es capaz de agrupar los distintos valores.\n",
        "\n",
        "En este ejemplo tambien usaremos las etiquetas, pero no para entrenarlo, si no para poder comprobar qué tal ha aprendido nuestro algoritmo."
      ]
    },
    {
      "cell_type": "markdown",
      "metadata": {
        "id": "Qq7ffLUWBRaj",
        "colab_type": "text"
      },
      "source": [
        "Como siempre comenzamos cargando nuestras librerias y datasets. KMeans será la encargada de nuestro algoritmo de aprendizaje no supervisado y metrics lo usarmos para comprobar que tal aprendio nuestro algoritmo\n",
        "\n",
        " Lo primero que haremos será cargar la información con la que vamos a trabajar y a repartirlo en dos variables, x e y"
      ]
    },
    {
      "cell_type": "code",
      "metadata": {
        "id": "Q8uLSDmhAOnP",
        "colab_type": "code",
        "colab": {}
      },
      "source": [
        "from sklearn.cluster import KMeans\n",
        "from sklearn import datasets\n",
        "from sklearn import metrics"
      ],
      "execution_count": 1,
      "outputs": []
    },
    {
      "cell_type": "code",
      "metadata": {
        "id": "rMR9lEPiBmoK",
        "colab_type": "code",
        "colab": {}
      },
      "source": [
        "iris = datasets.load_iris()"
      ],
      "execution_count": 2,
      "outputs": []
    },
    {
      "cell_type": "code",
      "metadata": {
        "id": "xzt8u27BBrUZ",
        "colab_type": "code",
        "colab": {}
      },
      "source": [
        "X = iris.data\n",
        "\n",
        "y = iris.target"
      ],
      "execution_count": 3,
      "outputs": []
    },
    {
      "cell_type": "markdown",
      "metadata": {
        "id": "uWHw6iLoBzzF",
        "colab_type": "text"
      },
      "source": [
        "Veamos los datos que contienen:"
      ]
    },
    {
      "cell_type": "code",
      "metadata": {
        "id": "dGOFYIvfBv3J",
        "colab_type": "code",
        "colab": {
          "base_uri": "https://localhost:8080/",
          "height": 187
        },
        "outputId": "2c86f7ba-73f5-40fb-edc6-4d745241a842"
      },
      "source": [
        "X[:10]"
      ],
      "execution_count": 4,
      "outputs": [
        {
          "output_type": "execute_result",
          "data": {
            "text/plain": [
              "array([[5.1, 3.5, 1.4, 0.2],\n",
              "       [4.9, 3. , 1.4, 0.2],\n",
              "       [4.7, 3.2, 1.3, 0.2],\n",
              "       [4.6, 3.1, 1.5, 0.2],\n",
              "       [5. , 3.6, 1.4, 0.2],\n",
              "       [5.4, 3.9, 1.7, 0.4],\n",
              "       [4.6, 3.4, 1.4, 0.3],\n",
              "       [5. , 3.4, 1.5, 0.2],\n",
              "       [4.4, 2.9, 1.4, 0.2],\n",
              "       [4.9, 3.1, 1.5, 0.1]])"
            ]
          },
          "metadata": {
            "tags": []
          },
          "execution_count": 4
        }
      ]
    },
    {
      "cell_type": "code",
      "metadata": {
        "id": "2eU3cnpLByVM",
        "colab_type": "code",
        "colab": {
          "base_uri": "https://localhost:8080/",
          "height": 136
        },
        "outputId": "016105ed-1953-43a7-d74e-be37c3124c7f"
      },
      "source": [
        "y"
      ],
      "execution_count": 6,
      "outputs": [
        {
          "output_type": "execute_result",
          "data": {
            "text/plain": [
              "array([0, 0, 0, 0, 0, 0, 0, 0, 0, 0, 0, 0, 0, 0, 0, 0, 0, 0, 0, 0, 0, 0,\n",
              "       0, 0, 0, 0, 0, 0, 0, 0, 0, 0, 0, 0, 0, 0, 0, 0, 0, 0, 0, 0, 0, 0,\n",
              "       0, 0, 0, 0, 0, 0, 1, 1, 1, 1, 1, 1, 1, 1, 1, 1, 1, 1, 1, 1, 1, 1,\n",
              "       1, 1, 1, 1, 1, 1, 1, 1, 1, 1, 1, 1, 1, 1, 1, 1, 1, 1, 1, 1, 1, 1,\n",
              "       1, 1, 1, 1, 1, 1, 1, 1, 1, 1, 1, 1, 2, 2, 2, 2, 2, 2, 2, 2, 2, 2,\n",
              "       2, 2, 2, 2, 2, 2, 2, 2, 2, 2, 2, 2, 2, 2, 2, 2, 2, 2, 2, 2, 2, 2,\n",
              "       2, 2, 2, 2, 2, 2, 2, 2, 2, 2, 2, 2, 2, 2, 2, 2, 2, 2])"
            ]
          },
          "metadata": {
            "tags": []
          },
          "execution_count": 6
        }
      ]
    },
    {
      "cell_type": "markdown",
      "metadata": {
        "id": "YXrxdZJjC5AD",
        "colab_type": "text"
      },
      "source": [
        "En este ejemplo concreto ya sabemos que las frores del dataset se dividen en tres grupos, sin embargo esto no siempre será así. Por lo tanto esta bien que, aun sabiendo que ya tenemos la respuesta la obviemos por el momento.\n",
        "\n",
        "Lo siguiente que haremos será generar nuestro algoritmo de clasificación con KMeans. En este método introduciremos dos parametros: <i>n_clusters</i>, que será el número de grupos en los que nuestro algoritmo dividirá los datos y <i>max_iter</i>, el número de iteraciones que hara el algoritmo para ir ajustando los centroides para conseguir un mejor resultado.\n",
        "\n",
        "Comenzaremos haciendo dos grupos y unas 100 iteraciones:"
      ]
    },
    {
      "cell_type": "code",
      "metadata": {
        "id": "UlSrQUTgCrre",
        "colab_type": "code",
        "colab": {}
      },
      "source": [
        "km = KMeans(n_clusters = 2, max_iter = 1000)"
      ],
      "execution_count": 8,
      "outputs": []
    },
    {
      "cell_type": "markdown",
      "metadata": {
        "id": "DEn8RZ7xEf6r",
        "colab_type": "text"
      },
      "source": [
        "Y ahora toca entrenar el modelo:"
      ]
    },
    {
      "cell_type": "code",
      "metadata": {
        "id": "JlKZGBuaEbPG",
        "colab_type": "code",
        "colab": {
          "base_uri": "https://localhost:8080/",
          "height": 68
        },
        "outputId": "c34baa55-5667-4b7b-b3ab-1308f3224d13"
      },
      "source": [
        "km.fit(X)"
      ],
      "execution_count": 9,
      "outputs": [
        {
          "output_type": "execute_result",
          "data": {
            "text/plain": [
              "KMeans(algorithm='auto', copy_x=True, init='k-means++', max_iter=1000,\n",
              "       n_clusters=2, n_init=10, n_jobs=None, precompute_distances='auto',\n",
              "       random_state=None, tol=0.0001, verbose=0)"
            ]
          },
          "metadata": {
            "tags": []
          },
          "execution_count": 9
        }
      ]
    },
    {
      "cell_type": "markdown",
      "metadata": {
        "id": "yhmdBgCrEtdJ",
        "colab_type": "text"
      },
      "source": [
        "Bien, eshora de probar qué tal funciono el entrenamiento y los ajustes que le disctamos. Para esto crearemos una nueva variable que contendrá las predicciones y la daremos datos para ver como los clasifica.\n",
        "\n",
        "Al contrario que con el entrenamiento supervisado en este caso sí podemos utilizar los mismo datos que durante el entrenamiento para comprobar la efectividad de nuestro algoritmo:"
      ]
    },
    {
      "cell_type": "code",
      "metadata": {
        "id": "EYWzqKYREdzr",
        "colab_type": "code",
        "colab": {}
      },
      "source": [
        "predicciones = km.predict(X)"
      ],
      "execution_count": 10,
      "outputs": []
    },
    {
      "cell_type": "markdown",
      "metadata": {
        "id": "I5rLPHNQFOd9",
        "colab_type": "text"
      },
      "source": [
        "Y si ahora comprobamos los resultados, deberíamos ver una lista similar a la que vimos al imprimir y pero con los resultados qgenerados automaticaente y en este caso, solo con dos grupos."
      ]
    },
    {
      "cell_type": "code",
      "metadata": {
        "id": "ccGibWg-FLwq",
        "colab_type": "code",
        "colab": {
          "base_uri": "https://localhost:8080/",
          "height": 136
        },
        "outputId": "459172d0-a74c-4e67-f1bd-b2f29a5baa52"
      },
      "source": [
        "predicciones"
      ],
      "execution_count": 11,
      "outputs": [
        {
          "output_type": "execute_result",
          "data": {
            "text/plain": [
              "array([1, 1, 1, 1, 1, 1, 1, 1, 1, 1, 1, 1, 1, 1, 1, 1, 1, 1, 1, 1, 1, 1,\n",
              "       1, 1, 1, 1, 1, 1, 1, 1, 1, 1, 1, 1, 1, 1, 1, 1, 1, 1, 1, 1, 1, 1,\n",
              "       1, 1, 1, 1, 1, 1, 0, 0, 0, 0, 0, 0, 0, 1, 0, 0, 0, 0, 0, 0, 0, 0,\n",
              "       0, 0, 0, 0, 0, 0, 0, 0, 0, 0, 0, 0, 0, 0, 0, 0, 0, 0, 0, 0, 0, 0,\n",
              "       0, 0, 0, 0, 0, 1, 0, 0, 0, 0, 1, 0, 0, 0, 0, 0, 0, 0, 0, 0, 0, 0,\n",
              "       0, 0, 0, 0, 0, 0, 0, 0, 0, 0, 0, 0, 0, 0, 0, 0, 0, 0, 0, 0, 0, 0,\n",
              "       0, 0, 0, 0, 0, 0, 0, 0, 0, 0, 0, 0, 0, 0, 0, 0, 0, 0], dtype=int32)"
            ]
          },
          "metadata": {
            "tags": []
          },
          "execution_count": 11
        }
      ]
    },
    {
      "cell_type": "markdown",
      "metadata": {
        "id": "8Gj-UPUrFjhi",
        "colab_type": "text"
      },
      "source": [
        "Aunque ya sabemos que etos resultados no son correctos, como en este caso tenemos la clasificación original, podemos comparar los datos de su prediccion y los de y:"
      ]
    },
    {
      "cell_type": "code",
      "metadata": {
        "id": "6le-_XfrFbDl",
        "colab_type": "code",
        "colab": {}
      },
      "source": [
        "score = metrics.adjusted_rand_score(y, predicciones)"
      ],
      "execution_count": 12,
      "outputs": []
    },
    {
      "cell_type": "code",
      "metadata": {
        "id": "Lw5LoDfWF5M6",
        "colab_type": "code",
        "colab": {
          "base_uri": "https://localhost:8080/",
          "height": 34
        },
        "outputId": "f33ab94c-e772-4260-d571-e2a7960ce042"
      },
      "source": [
        "print(score)"
      ],
      "execution_count": 13,
      "outputs": [
        {
          "output_type": "stream",
          "text": [
            "0.5399218294207123\n"
          ],
          "name": "stdout"
        }
      ]
    },
    {
      "cell_type": "markdown",
      "metadata": {
        "id": "-oHGkQRBF9dA",
        "colab_type": "text"
      },
      "source": [
        "¡Vaya! Pareceqe no ha ido muy bien. Será mejor volver atras y reajustar los valores de KMeans. Probemos con cuatro grupos:"
      ]
    },
    {
      "cell_type": "code",
      "metadata": {
        "id": "gtJ98W4HF7PI",
        "colab_type": "code",
        "colab": {
          "base_uri": "https://localhost:8080/",
          "height": 68
        },
        "outputId": "b09a69b2-09b0-4b7d-c77f-d10ce3eb201f"
      },
      "source": [
        "km = KMeans(n_clusters = 4, max_iter = 1000)\n",
        "km.fit(X)"
      ],
      "execution_count": 14,
      "outputs": [
        {
          "output_type": "execute_result",
          "data": {
            "text/plain": [
              "KMeans(algorithm='auto', copy_x=True, init='k-means++', max_iter=1000,\n",
              "       n_clusters=4, n_init=10, n_jobs=None, precompute_distances='auto',\n",
              "       random_state=None, tol=0.0001, verbose=0)"
            ]
          },
          "metadata": {
            "tags": []
          },
          "execution_count": 14
        }
      ]
    },
    {
      "cell_type": "code",
      "metadata": {
        "id": "UhPav5PuGTZe",
        "colab_type": "code",
        "colab": {
          "base_uri": "https://localhost:8080/",
          "height": 136
        },
        "outputId": "89bb1647-d9f6-4f87-cfb1-065e82b979e8"
      },
      "source": [
        "predicciones = km.predict(X)\n",
        "predicciones"
      ],
      "execution_count": 15,
      "outputs": [
        {
          "output_type": "execute_result",
          "data": {
            "text/plain": [
              "array([1, 1, 1, 1, 1, 1, 1, 1, 1, 1, 1, 1, 1, 1, 1, 1, 1, 1, 1, 1, 1, 1,\n",
              "       1, 1, 1, 1, 1, 1, 1, 1, 1, 1, 1, 1, 1, 1, 1, 1, 1, 1, 1, 1, 1, 1,\n",
              "       1, 1, 1, 1, 1, 1, 3, 3, 3, 0, 3, 0, 3, 0, 3, 0, 0, 0, 0, 3, 0, 3,\n",
              "       0, 0, 3, 0, 3, 0, 3, 3, 3, 3, 3, 3, 3, 0, 0, 0, 0, 3, 0, 3, 3, 3,\n",
              "       0, 0, 0, 3, 0, 0, 0, 0, 0, 3, 0, 0, 2, 3, 2, 2, 2, 2, 0, 2, 2, 2,\n",
              "       3, 3, 2, 3, 3, 2, 2, 2, 2, 3, 2, 3, 2, 3, 2, 2, 3, 3, 2, 2, 2, 2,\n",
              "       2, 3, 3, 2, 2, 2, 3, 2, 2, 2, 3, 2, 2, 2, 3, 3, 2, 3], dtype=int32)"
            ]
          },
          "metadata": {
            "tags": []
          },
          "execution_count": 15
        }
      ]
    },
    {
      "cell_type": "code",
      "metadata": {
        "id": "O8_b3CYeGZm0",
        "colab_type": "code",
        "colab": {
          "base_uri": "https://localhost:8080/",
          "height": 34
        },
        "outputId": "7ed9b3e4-9dbd-4dfe-ab91-a743ae35257e"
      },
      "source": [
        "score = metrics.adjusted_rand_score(y, predicciones)\n",
        "score"
      ],
      "execution_count": 16,
      "outputs": [
        {
          "output_type": "execute_result",
          "data": {
            "text/plain": [
              "0.6498176853819967"
            ]
          },
          "metadata": {
            "tags": []
          },
          "execution_count": 16
        }
      ]
    },
    {
      "cell_type": "markdown",
      "metadata": {
        "id": "8FFtKxE9GepD",
        "colab_type": "text"
      },
      "source": [
        "parece que algo mejor, pero no sufuciente. Veamos los resultados con tres grupos:"
      ]
    },
    {
      "cell_type": "code",
      "metadata": {
        "id": "N5dRCkUoGc8a",
        "colab_type": "code",
        "colab": {
          "base_uri": "https://localhost:8080/",
          "height": 68
        },
        "outputId": "d0c7fb4d-6b9d-4b9f-b249-11f70b61db2f"
      },
      "source": [
        "km = KMeans(n_clusters = 3, max_iter = 1000)\n",
        "km.fit(X)"
      ],
      "execution_count": 20,
      "outputs": [
        {
          "output_type": "execute_result",
          "data": {
            "text/plain": [
              "KMeans(algorithm='auto', copy_x=True, init='k-means++', max_iter=1000,\n",
              "       n_clusters=3, n_init=10, n_jobs=None, precompute_distances='auto',\n",
              "       random_state=None, tol=0.0001, verbose=0)"
            ]
          },
          "metadata": {
            "tags": []
          },
          "execution_count": 20
        }
      ]
    },
    {
      "cell_type": "code",
      "metadata": {
        "id": "En7whs36GlG2",
        "colab_type": "code",
        "colab": {
          "base_uri": "https://localhost:8080/",
          "height": 136
        },
        "outputId": "9af87cc5-fc77-4de5-cb68-1395565d6464"
      },
      "source": [
        "predicciones = km.predict(X)\n",
        "predicciones"
      ],
      "execution_count": 21,
      "outputs": [
        {
          "output_type": "execute_result",
          "data": {
            "text/plain": [
              "array([1, 1, 1, 1, 1, 1, 1, 1, 1, 1, 1, 1, 1, 1, 1, 1, 1, 1, 1, 1, 1, 1,\n",
              "       1, 1, 1, 1, 1, 1, 1, 1, 1, 1, 1, 1, 1, 1, 1, 1, 1, 1, 1, 1, 1, 1,\n",
              "       1, 1, 1, 1, 1, 1, 0, 0, 2, 0, 0, 0, 0, 0, 0, 0, 0, 0, 0, 0, 0, 0,\n",
              "       0, 0, 0, 0, 0, 0, 0, 0, 0, 0, 0, 2, 0, 0, 0, 0, 0, 0, 0, 0, 0, 0,\n",
              "       0, 0, 0, 0, 0, 0, 0, 0, 0, 0, 0, 0, 2, 0, 2, 2, 2, 2, 0, 2, 2, 2,\n",
              "       2, 2, 2, 0, 0, 2, 2, 2, 2, 0, 2, 0, 2, 0, 2, 2, 0, 0, 2, 2, 2, 2,\n",
              "       2, 0, 2, 2, 2, 2, 0, 2, 2, 2, 0, 2, 2, 2, 0, 2, 2, 0], dtype=int32)"
            ]
          },
          "metadata": {
            "tags": []
          },
          "execution_count": 21
        }
      ]
    },
    {
      "cell_type": "code",
      "metadata": {
        "id": "M04gREBQGm4A",
        "colab_type": "code",
        "colab": {
          "base_uri": "https://localhost:8080/",
          "height": 34
        },
        "outputId": "266a3bb4-91f3-4262-83be-0ec10cf73467"
      },
      "source": [
        "score = metrics.adjusted_rand_score(y, predicciones)\n",
        "score"
      ],
      "execution_count": 22,
      "outputs": [
        {
          "output_type": "execute_result",
          "data": {
            "text/plain": [
              "0.7302382722834697"
            ]
          },
          "metadata": {
            "tags": []
          },
          "execution_count": 22
        }
      ]
    },
    {
      "cell_type": "markdown",
      "metadata": {
        "id": "drTLmtlaG4XI",
        "colab_type": "text"
      },
      "source": [
        "El resultado es mejor que los anteriores, pero es posible que no este totalmente satisfecho. Lo mejor sería revisar los datos de entrada ya que es posible que contengan alguna información que no sea relevante para agrupar los datos pero que interfiera en esta. Otra opción sería utilizar otro algoritmo o ajustar los parametros de este.\n",
        "\n"
      ]
    },
    {
      "cell_type": "markdown",
      "metadata": {
        "id": "PSHN_31ZGtK2",
        "colab_type": "text"
      },
      "source": [
        "Como ya comente antes, en este caso tenemos los resultados, pero no seimpre será así, por lo que es importante revisar los datos  y comprobar si el algoritmo está cumpliendo bien su labor. Otro ejercicio interesante, ya que en la teoría no sabemos cuantos grupos han de salir de este clasificación, es utilizar un bucle for y poder ver los distintos resultados con diferentes grupos o parametros."
      ]
    },
    {
      "cell_type": "code",
      "metadata": {
        "id": "OTZS3bcUGoe1",
        "colab_type": "code",
        "colab": {}
      },
      "source": [
        ""
      ],
      "execution_count": null,
      "outputs": []
    }
  ]
}