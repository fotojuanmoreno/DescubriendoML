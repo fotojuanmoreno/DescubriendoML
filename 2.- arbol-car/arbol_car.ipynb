{
  "nbformat": 4,
  "nbformat_minor": 0,
  "metadata": {
    "colab": {
      "name": "arbol-car.ipynb",
      "provenance": [],
      "authorship_tag": "ABX9TyNayRPRsR6uvfyD7Xijlpwi",
      "include_colab_link": true
    },
    "kernelspec": {
      "name": "python3",
      "display_name": "Python 3"
    }
  },
  "cells": [
    {
      "cell_type": "markdown",
      "metadata": {
        "id": "view-in-github",
        "colab_type": "text"
      },
      "source": [
        "<a href=\"https://colab.research.google.com/github/fotojuanmoreno/DescubriendoML/blob/master/2.-%20arbol-car/arbol_car.ipynb\" target=\"_parent\"><img src=\"https://colab.research.google.com/assets/colab-badge.svg\" alt=\"Open In Colab\"/></a>"
      ]
    },
    {
      "cell_type": "markdown",
      "metadata": {
        "id": "kv8F2F_X74pw",
        "colab_type": "text"
      },
      "source": [
        "Vamos a intentar crear y entender  esto.\n",
        "Lo primero será importar las librerías  panda y matplotlib. Más tarde he tenido que importar numpy a pesar de que en el tutorial no lo hacían."
      ]
    },
    {
      "cell_type": "code",
      "metadata": {
        "id": "RjnvyLsjttvE",
        "colab_type": "code",
        "colab": {}
      },
      "source": [
        "import pandas as pd\n",
        "import matplotlib.pyplot as plt"
      ],
      "execution_count": null,
      "outputs": []
    },
    {
      "cell_type": "markdown",
      "metadata": {
        "id": "vVQiqrHw8VSs",
        "colab_type": "text"
      },
      "source": [
        "Importamos los datos"
      ]
    },
    {
      "cell_type": "code",
      "metadata": {
        "id": "6RTr65I3tzHj",
        "colab_type": "code",
        "colab": {}
      },
      "source": [
        "data = pd.read_csv(\"car.csv\", header = None)"
      ],
      "execution_count": null,
      "outputs": []
    },
    {
      "cell_type": "markdown",
      "metadata": {
        "id": "YJOADLO48XuC",
        "colab_type": "text"
      },
      "source": [
        "Le damos el nombre a las columnas:"
      ]
    },
    {
      "cell_type": "code",
      "metadata": {
        "id": "-Mw4NMA7uS31",
        "colab_type": "code",
        "colab": {}
      },
      "source": [
        "data.columns = [\"price\", \"maintenance\", \"n_doors\", \"capacity\", \"size_lug\", \"safety\", \"class\"]"
      ],
      "execution_count": null,
      "outputs": []
    },
    {
      "cell_type": "markdown",
      "metadata": {
        "id": "QlavK3Iw8a6I",
        "colab_type": "text"
      },
      "source": [
        "Y comprobamos que todo a ido bien."
      ]
    },
    {
      "cell_type": "code",
      "metadata": {
        "id": "n-nylBcauV23",
        "colab_type": "code",
        "colab": {
          "base_uri": "https://localhost:8080/",
          "height": 204
        },
        "outputId": "b618af16-5555-4065-b3cc-07443fc22aaf"
      },
      "source": [
        "data.sample(5)"
      ],
      "execution_count": null,
      "outputs": [
        {
          "output_type": "execute_result",
          "data": {
            "text/html": [
              "<div>\n",
              "<style scoped>\n",
              "    .dataframe tbody tr th:only-of-type {\n",
              "        vertical-align: middle;\n",
              "    }\n",
              "\n",
              "    .dataframe tbody tr th {\n",
              "        vertical-align: top;\n",
              "    }\n",
              "\n",
              "    .dataframe thead th {\n",
              "        text-align: right;\n",
              "    }\n",
              "</style>\n",
              "<table border=\"1\" class=\"dataframe\">\n",
              "  <thead>\n",
              "    <tr style=\"text-align: right;\">\n",
              "      <th></th>\n",
              "      <th>price</th>\n",
              "      <th>maintenance</th>\n",
              "      <th>n_doors</th>\n",
              "      <th>capacity</th>\n",
              "      <th>size_lug</th>\n",
              "      <th>safety</th>\n",
              "      <th>class</th>\n",
              "    </tr>\n",
              "  </thead>\n",
              "  <tbody>\n",
              "    <tr>\n",
              "      <th>1129</th>\n",
              "      <td>2</td>\n",
              "      <td>2</td>\n",
              "      <td>2</td>\n",
              "      <td>3</td>\n",
              "      <td>2</td>\n",
              "      <td>2</td>\n",
              "      <td>acc</td>\n",
              "    </tr>\n",
              "    <tr>\n",
              "      <th>1640</th>\n",
              "      <td>1</td>\n",
              "      <td>1</td>\n",
              "      <td>1</td>\n",
              "      <td>3</td>\n",
              "      <td>1</td>\n",
              "      <td>3</td>\n",
              "      <td>unacc</td>\n",
              "    </tr>\n",
              "    <tr>\n",
              "      <th>623</th>\n",
              "      <td>3</td>\n",
              "      <td>3</td>\n",
              "      <td>4</td>\n",
              "      <td>1</td>\n",
              "      <td>1</td>\n",
              "      <td>3</td>\n",
              "      <td>unacc</td>\n",
              "    </tr>\n",
              "    <tr>\n",
              "      <th>223</th>\n",
              "      <td>4</td>\n",
              "      <td>2</td>\n",
              "      <td>1</td>\n",
              "      <td>1</td>\n",
              "      <td>3</td>\n",
              "      <td>2</td>\n",
              "      <td>unacc</td>\n",
              "    </tr>\n",
              "    <tr>\n",
              "      <th>870</th>\n",
              "      <td>2</td>\n",
              "      <td>4</td>\n",
              "      <td>1</td>\n",
              "      <td>1</td>\n",
              "      <td>3</td>\n",
              "      <td>1</td>\n",
              "      <td>unacc</td>\n",
              "    </tr>\n",
              "  </tbody>\n",
              "</table>\n",
              "</div>"
            ],
            "text/plain": [
              "      price  maintenance  n_doors  capacity  size_lug  safety  class\n",
              "1129      2            2        2         3         2       2    acc\n",
              "1640      1            1        1         3         1       3  unacc\n",
              "623       3            3        4         1         1       3  unacc\n",
              "223       4            2        1         1         3       2  unacc\n",
              "870       2            4        1         1         3       1  unacc"
            ]
          },
          "metadata": {
            "tags": []
          },
          "execution_count": 25
        }
      ]
    },
    {
      "cell_type": "markdown",
      "metadata": {
        "id": "vxNgRHHz8eHR",
        "colab_type": "text"
      },
      "source": [
        "El siguiene paso es configuara los datos str a numeros con los que trabajar. Este paso me ha dado algunos errores pero se ha ejeutado bien, así que no sé muy bien qué ha fallado"
      ]
    },
    {
      "cell_type": "code",
      "metadata": {
        "id": "6T-rjQoHuu-F",
        "colab_type": "code",
        "colab": {}
      },
      "source": [
        "data.price.replace(('vhigh', 'high', 'med', 'low'), (4, 3, 2, 1), inplace = True)\n",
        "data[\"maintenance\"].replace((\"vhigh\", \"high\", \"med\", \"low\"), (4, 3, 2, 1), inplace = True)\n",
        "data[\"n_doors\"].replace((\"2\", \"3\", \"4\", \"5more\"), (1, 2, 3, 4), inplace = True)\n",
        "data[\"capacity\"].replace((\"2\", \"4\", \"more\"), (1, 2, 3), inplace = True)\n",
        "data[\"size_lug\"].replace((\"small\", \"med\", \"big\"), (1, 2, 3), inplace = True)\n",
        "data[\"safety\"].replace((\"low\", \"med\", \"high\"), (1, 2,3), inplace = True)"
      ],
      "execution_count": null,
      "outputs": []
    },
    {
      "cell_type": "code",
      "metadata": {
        "id": "l2FtTKPayIyA",
        "colab_type": "code",
        "colab": {}
      },
      "source": [
        "data[\"class\"].replace((\"unacc\", \"acc\", \"good\", \"vgood\"), (1, 2, 3, 4), inplace = True)"
      ],
      "execution_count": null,
      "outputs": []
    },
    {
      "cell_type": "code",
      "metadata": {
        "id": "Uq5lxzyxxurh",
        "colab_type": "code",
        "colab": {
          "base_uri": "https://localhost:8080/",
          "height": 204
        },
        "outputId": "29bb6b43-601e-48d1-e9fb-bf49a0a14060"
      },
      "source": [
        "data.head(5)"
      ],
      "execution_count": null,
      "outputs": [
        {
          "output_type": "execute_result",
          "data": {
            "text/html": [
              "<div>\n",
              "<style scoped>\n",
              "    .dataframe tbody tr th:only-of-type {\n",
              "        vertical-align: middle;\n",
              "    }\n",
              "\n",
              "    .dataframe tbody tr th {\n",
              "        vertical-align: top;\n",
              "    }\n",
              "\n",
              "    .dataframe thead th {\n",
              "        text-align: right;\n",
              "    }\n",
              "</style>\n",
              "<table border=\"1\" class=\"dataframe\">\n",
              "  <thead>\n",
              "    <tr style=\"text-align: right;\">\n",
              "      <th></th>\n",
              "      <th>price</th>\n",
              "      <th>maintenance</th>\n",
              "      <th>n_doors</th>\n",
              "      <th>capacity</th>\n",
              "      <th>size_lug</th>\n",
              "      <th>safety</th>\n",
              "      <th>class</th>\n",
              "    </tr>\n",
              "  </thead>\n",
              "  <tbody>\n",
              "    <tr>\n",
              "      <th>0</th>\n",
              "      <td>4</td>\n",
              "      <td>4</td>\n",
              "      <td>1</td>\n",
              "      <td>1</td>\n",
              "      <td>1</td>\n",
              "      <td>1</td>\n",
              "      <td>1</td>\n",
              "    </tr>\n",
              "    <tr>\n",
              "      <th>1</th>\n",
              "      <td>4</td>\n",
              "      <td>4</td>\n",
              "      <td>1</td>\n",
              "      <td>1</td>\n",
              "      <td>1</td>\n",
              "      <td>2</td>\n",
              "      <td>1</td>\n",
              "    </tr>\n",
              "    <tr>\n",
              "      <th>2</th>\n",
              "      <td>4</td>\n",
              "      <td>4</td>\n",
              "      <td>1</td>\n",
              "      <td>1</td>\n",
              "      <td>1</td>\n",
              "      <td>3</td>\n",
              "      <td>1</td>\n",
              "    </tr>\n",
              "    <tr>\n",
              "      <th>3</th>\n",
              "      <td>4</td>\n",
              "      <td>4</td>\n",
              "      <td>1</td>\n",
              "      <td>1</td>\n",
              "      <td>2</td>\n",
              "      <td>1</td>\n",
              "      <td>1</td>\n",
              "    </tr>\n",
              "    <tr>\n",
              "      <th>4</th>\n",
              "      <td>4</td>\n",
              "      <td>4</td>\n",
              "      <td>1</td>\n",
              "      <td>1</td>\n",
              "      <td>2</td>\n",
              "      <td>2</td>\n",
              "      <td>1</td>\n",
              "    </tr>\n",
              "  </tbody>\n",
              "</table>\n",
              "</div>"
            ],
            "text/plain": [
              "   price  maintenance  n_doors  capacity  size_lug  safety  class\n",
              "0      4            4        1         1         1       1      1\n",
              "1      4            4        1         1         1       2      1\n",
              "2      4            4        1         1         1       3      1\n",
              "3      4            4        1         1         2       1      1\n",
              "4      4            4        1         1         2       2      1"
            ]
          },
          "metadata": {
            "tags": []
          },
          "execution_count": 36
        }
      ]
    },
    {
      "cell_type": "markdown",
      "metadata": {
        "id": "9sEkVFyr8rLT",
        "colab_type": "text"
      },
      "source": [
        "Creamos una variable que contenga los valores, sin cabecera.\n",
        "en el valor x introducimos las columnas. En Y intrucucimos un arreglo que contiene la ultima columna del set de datos, el resultado de si debermos o no comprar ese coche. \n",
        "asarray conviente un objeto iterable en un array, lo que nos permite especificar el tipo a aplicar (esto no se que es)"
      ]
    },
    {
      "cell_type": "code",
      "metadata": {
        "id": "BPqezzPj4kKf",
        "colab_type": "code",
        "colab": {}
      },
      "source": [
        "import numpy as np\n",
        "\n",
        "dataset = data.values\n",
        "X = dataset[:, 0:6]\n",
        "Y = np.asarray(dataset[:, 6], dtype = \"S6\")"
      ],
      "execution_count": null,
      "outputs": []
    },
    {
      "cell_type": "markdown",
      "metadata": {
        "id": "uaH44Nd79uqV",
        "colab_type": "text"
      },
      "source": [
        "importamos las librerias para crear el arblo de decisiones."
      ]
    },
    {
      "cell_type": "code",
      "metadata": {
        "id": "DfXFlPAt5LIA",
        "colab_type": "code",
        "colab": {}
      },
      "source": [
        "from sklearn import tree\n",
        "from sklearn.model_selection import train_test_split, cross_val_score\n",
        "from sklearn import metrics"
      ],
      "execution_count": null,
      "outputs": []
    },
    {
      "cell_type": "markdown",
      "metadata": {
        "id": "jkuYheyo9y9n",
        "colab_type": "text"
      },
      "source": [
        "Dividimos la informacion en x e y, y lo repartimos en dos grupos. Entrenamiento y prueba. El primer grupo, de un 80%, servirá para entrenar el modelo. El segundo lo usaremos para comprobar si este ha aprendido y funciona."
      ]
    },
    {
      "cell_type": "code",
      "metadata": {
        "id": "F1b0rWcP5Zay",
        "colab_type": "code",
        "colab": {}
      },
      "source": [
        "X_Train, X_Test, Y_Train, Y_Test = train_test_split(X, Y, test_size = 0.2, random_state = 0)"
      ],
      "execution_count": null,
      "outputs": []
    },
    {
      "cell_type": "markdown",
      "metadata": {
        "id": "zVBvVR5M-M6S",
        "colab_type": "text"
      },
      "source": [
        "iniciamos nuestro arbol y le damos una profundidad maxima."
      ]
    },
    {
      "cell_type": "code",
      "metadata": {
        "id": "AqvcqnSi5oW4",
        "colab_type": "code",
        "colab": {}
      },
      "source": [
        "tr = tree.DecisionTreeClassifier(max_depth = 10)"
      ],
      "execution_count": null,
      "outputs": []
    },
    {
      "cell_type": "markdown",
      "metadata": {
        "id": "tld-KCBI-U1Z",
        "colab_type": "text"
      },
      "source": [
        "Este es el momento en el que creamos el modelo:"
      ]
    },
    {
      "cell_type": "code",
      "metadata": {
        "id": "quSaPtCk5wRJ",
        "colab_type": "code",
        "colab": {
          "base_uri": "https://localhost:8080/",
          "height": 119
        },
        "outputId": "17c613b7-dd33-4b53-f3a8-51c960798903"
      },
      "source": [
        "tr.fit(X_Train, Y_Train)"
      ],
      "execution_count": null,
      "outputs": [
        {
          "output_type": "execute_result",
          "data": {
            "text/plain": [
              "DecisionTreeClassifier(ccp_alpha=0.0, class_weight=None, criterion='gini',\n",
              "                       max_depth=10, max_features=None, max_leaf_nodes=None,\n",
              "                       min_impurity_decrease=0.0, min_impurity_split=None,\n",
              "                       min_samples_leaf=1, min_samples_split=2,\n",
              "                       min_weight_fraction_leaf=0.0, presort='deprecated',\n",
              "                       random_state=None, splitter='best')"
            ]
          },
          "metadata": {
            "tags": []
          },
          "execution_count": 48
        }
      ]
    },
    {
      "cell_type": "markdown",
      "metadata": {
        "id": "lkv9Fzeq-bIe",
        "colab_type": "text"
      },
      "source": [
        "esta variable nos gusrada una prediccion a través de los datos de test."
      ]
    },
    {
      "cell_type": "code",
      "metadata": {
        "id": "_KsSs2jZ7F7t",
        "colab_type": "code",
        "colab": {}
      },
      "source": [
        "y_pred = tr.predict(X_Test)"
      ],
      "execution_count": null,
      "outputs": []
    },
    {
      "cell_type": "code",
      "metadata": {
        "id": "vaKVFC7z7MD3",
        "colab_type": "code",
        "colab": {
          "base_uri": "https://localhost:8080/",
          "height": 561
        },
        "outputId": "d7457a1d-a7da-419a-ee57-fcdd5afb4023"
      },
      "source": [
        "y_pred"
      ],
      "execution_count": null,
      "outputs": [
        {
          "output_type": "execute_result",
          "data": {
            "text/plain": [
              "array([b'1', b'1', b'1', b'1', b'1', b'3', b'1', b'2', b'2', b'1', b'1',\n",
              "       b'1', b'2', b'1', b'1', b'2', b'1', b'1', b'2', b'1', b'3', b'2',\n",
              "       b'2', b'1', b'1', b'1', b'1', b'1', b'1', b'1', b'3', b'2', b'1',\n",
              "       b'2', b'3', b'1', b'1', b'1', b'1', b'1', b'1', b'1', b'1', b'1',\n",
              "       b'4', b'1', b'1', b'2', b'1', b'1', b'1', b'1', b'1', b'1', b'1',\n",
              "       b'1', b'1', b'1', b'1', b'1', b'2', b'1', b'1', b'1', b'1', b'2',\n",
              "       b'1', b'1', b'1', b'1', b'1', b'2', b'1', b'2', b'2', b'2', b'1',\n",
              "       b'1', b'2', b'1', b'2', b'2', b'2', b'1', b'1', b'1', b'1', b'3',\n",
              "       b'1', b'1', b'1', b'2', b'1', b'1', b'1', b'4', b'1', b'2', b'2',\n",
              "       b'1', b'1', b'1', b'2', b'1', b'4', b'2', b'1', b'2', b'1', b'1',\n",
              "       b'1', b'1', b'1', b'2', b'1', b'3', b'1', b'1', b'1', b'1', b'1',\n",
              "       b'1', b'2', b'1', b'1', b'1', b'1', b'2', b'3', b'1', b'1', b'1',\n",
              "       b'2', b'1', b'1', b'1', b'1', b'1', b'1', b'1', b'1', b'1', b'1',\n",
              "       b'2', b'1', b'1', b'2', b'1', b'2', b'2', b'2', b'2', b'1', b'1',\n",
              "       b'1', b'2', b'1', b'1', b'1', b'1', b'2', b'1', b'1', b'1', b'2',\n",
              "       b'1', b'1', b'1', b'1', b'1', b'1', b'1', b'1', b'1', b'2', b'1',\n",
              "       b'1', b'1', b'1', b'1', b'2', b'2', b'2', b'1', b'2', b'1', b'3',\n",
              "       b'1', b'1', b'1', b'1', b'2', b'1', b'1', b'1', b'2', b'1', b'3',\n",
              "       b'1', b'1', b'1', b'1', b'2', b'1', b'1', b'1', b'1', b'1', b'1',\n",
              "       b'1', b'1', b'2', b'1', b'1', b'1', b'1', b'1', b'2', b'1', b'1',\n",
              "       b'1', b'2', b'1', b'4', b'1', b'1', b'1', b'4', b'1', b'1', b'1',\n",
              "       b'1', b'2', b'1', b'1', b'1', b'1', b'1', b'1', b'1', b'1', b'1',\n",
              "       b'1', b'1', b'3', b'1', b'2', b'1', b'1', b'1', b'1', b'1', b'3',\n",
              "       b'2', b'3', b'2', b'2', b'1', b'1', b'1', b'2', b'1', b'1', b'2',\n",
              "       b'1', b'1', b'4', b'1', b'2', b'1', b'1', b'1', b'2', b'1', b'2',\n",
              "       b'1', b'1', b'1', b'1', b'1', b'1', b'1', b'2', b'1', b'1', b'2',\n",
              "       b'1', b'4', b'3', b'1', b'1', b'1', b'1', b'1', b'1', b'1', b'1',\n",
              "       b'1', b'1', b'2', b'1', b'2', b'2', b'2', b'3', b'1', b'2', b'1',\n",
              "       b'2', b'1', b'3', b'2', b'1', b'1', b'1', b'1', b'1', b'1', b'1',\n",
              "       b'2', b'1', b'1', b'2', b'1', b'2', b'1', b'1', b'1', b'1', b'1',\n",
              "       b'2', b'1', b'3', b'1', b'3', b'1', b'1', b'1', b'4', b'1', b'1',\n",
              "       b'4', b'1', b'2', b'1', b'2'], dtype='|S6')"
            ]
          },
          "metadata": {
            "tags": []
          },
          "execution_count": 50
        }
      ]
    },
    {
      "cell_type": "markdown",
      "metadata": {
        "id": "XN5A_bbW-u8w",
        "colab_type": "text"
      },
      "source": [
        "Para comprobar si está funcionando podemos comprobar que porcentaje de acierto tiene."
      ]
    },
    {
      "cell_type": "code",
      "metadata": {
        "id": "xuIs4EU17W_J",
        "colab_type": "code",
        "colab": {}
      },
      "source": [
        "score = tr.score(X_Test, Y_Test)"
      ],
      "execution_count": null,
      "outputs": []
    },
    {
      "cell_type": "code",
      "metadata": {
        "id": "NWiMcGAe7lyR",
        "colab_type": "code",
        "colab": {
          "base_uri": "https://localhost:8080/",
          "height": 34
        },
        "outputId": "2f1990b2-5764-4b7f-b179-853be5bb0112"
      },
      "source": [
        "print(\"precision: %0.4f\" % (score))"
      ],
      "execution_count": null,
      "outputs": [
        {
          "output_type": "stream",
          "text": [
            "precision: 0.9769\n"
          ],
          "name": "stdout"
        }
      ]
    },
    {
      "cell_type": "markdown",
      "metadata": {
        "id": "txnhCbqb_OpW",
        "colab_type": "text"
      },
      "source": [
        "Ahora que lo he visto y repasado todo, lo entiendo más o menos, pero el ejercicio no estaba muy bien planteado o al menos explicado.\n",
        "\n",
        "Las distintas columnas de los datos nos indican una serie de caracteristicas de los vehiculos (número de puestas, si son seguros, cosas así...) y la última columna, class, indica si el vehiculo es adecuado para comprarlo o no. Lo que le enseñamos al modelo es a ver los datos que itienen las preimeras columnas para que lo sepa relacionar con la última y nos diga si es apto o no.\n",
        "\n",
        "Faltaría sacar algun analisis grafico y probar a introcucir un modelo para que el programa nos diga si es apto o no."
      ]
    }
  ]
}