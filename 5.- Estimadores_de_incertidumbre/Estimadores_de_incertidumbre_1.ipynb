{
  "nbformat": 4,
  "nbformat_minor": 0,
  "metadata": {
    "colab": {
      "name": "Estimadores_de_incertidumbre_1.ipynb",
      "provenance": [],
      "authorship_tag": "ABX9TyN+leNf8XgcfCMefMWZ+X4Q",
      "include_colab_link": true
    },
    "kernelspec": {
      "name": "python3",
      "display_name": "Python 3"
    }
  },
  "cells": [
    {
      "cell_type": "markdown",
      "metadata": {
        "id": "view-in-github",
        "colab_type": "text"
      },
      "source": [
        "<a href=\"https://colab.research.google.com/github/fotojuanmoreno/DescubriendoML/blob/master/5.-%20Estimadores_de_incertidumbre/Estimadores_de_incertidumbre_1.ipynb\" target=\"_parent\"><img src=\"https://colab.research.google.com/assets/colab-badge.svg\" alt=\"Open In Colab\"/></a>"
      ]
    },
    {
      "cell_type": "markdown",
      "metadata": {
        "id": "aN12Mlap0AVm",
        "colab_type": "text"
      },
      "source": [
        "Los estimadores de incertidumbre son, por sumplificarlo un poco, una serie de algoritmos que poseen librerias como sklearn y que nos ayudan a conocer el grado de \"seguridad\" con el que el algoritmo caataloga un dato.\n",
        "\n",
        "Si, por ejemplo, nuestro algoritmo esta separando los datos en dos grupos, el estimador de incertidumbre nos ayuda a saber como de seguro esta el algoritmo de en que grupo va un dato. Así puede que un dato complejo (o no) este en torno al 50%, y esto nos dice que la agrupación que esta haciendo el algoritmo no es muy fiable y puede necesitar más datos u otra configuración."
      ]
    },
    {
      "cell_type": "markdown",
      "metadata": {
        "id": "o9JfgVBn1bCE",
        "colab_type": "text"
      },
      "source": [
        "Importaremos nuestra db, el ya clásico train_test_split y svm (support vector machine) que nos ayudara a segmentar y clasificar nuestros datos (ya se verá)"
      ]
    },
    {
      "cell_type": "code",
      "metadata": {
        "id": "rtuKGUu_z4VU",
        "colab_type": "code",
        "colab": {}
      },
      "source": [
        "from sklearn.datasets import load_iris\n",
        "from sklearn.model_selection import train_test_split\n",
        "from sklearn import svm"
      ],
      "execution_count": 1,
      "outputs": []
    },
    {
      "cell_type": "markdown",
      "metadata": {
        "id": "q4B1y0Fx15_K",
        "colab_type": "text"
      },
      "source": [
        "Cargaos nuestra bd y dividimos entre entrenamiento y test como siempre:"
      ]
    },
    {
      "cell_type": "code",
      "metadata": {
        "id": "NSsCslkL1u3m",
        "colab_type": "code",
        "colab": {}
      },
      "source": [
        "iris = load_iris()"
      ],
      "execution_count": 2,
      "outputs": []
    },
    {
      "cell_type": "code",
      "metadata": {
        "id": "QPQcXbVH1z1Z",
        "colab_type": "code",
        "colab": {}
      },
      "source": [
        "X_train, X_test, Y_train, Y_test = train_test_split(iris.data, iris.target)"
      ],
      "execution_count": 3,
      "outputs": []
    },
    {
      "cell_type": "markdown",
      "metadata": {
        "id": "XaDNgPp-2R7q",
        "colab_type": "text"
      },
      "source": [
        "Ahora creaos una variable en la que agregamos nuestro algoritmo svm:"
      ]
    },
    {
      "cell_type": "code",
      "metadata": {
        "id": "iEILxtgI2JC7",
        "colab_type": "code",
        "colab": {}
      },
      "source": [
        "alg = svm.SVC(probability = True)"
      ],
      "execution_count": 4,
      "outputs": []
    },
    {
      "cell_type": "markdown",
      "metadata": {
        "id": "ZZcFo1Ib2hKk",
        "colab_type": "text"
      },
      "source": [
        "Y lo entrenamos:"
      ]
    },
    {
      "cell_type": "code",
      "metadata": {
        "id": "X2K3fl7J2gsW",
        "colab_type": "code",
        "colab": {
          "base_uri": "https://localhost:8080/",
          "height": 85
        },
        "outputId": "9c544f93-babd-49b7-97ae-8b958d2f10e7"
      },
      "source": [
        "alg.fit(X_train, Y_train)"
      ],
      "execution_count": 5,
      "outputs": [
        {
          "output_type": "execute_result",
          "data": {
            "text/plain": [
              "SVC(C=1.0, break_ties=False, cache_size=200, class_weight=None, coef0=0.0,\n",
              "    decision_function_shape='ovr', degree=3, gamma='scale', kernel='rbf',\n",
              "    max_iter=-1, probability=True, random_state=None, shrinking=True, tol=0.001,\n",
              "    verbose=False)"
            ]
          },
          "metadata": {
            "tags": []
          },
          "execution_count": 5
        }
      ]
    },
    {
      "cell_type": "markdown",
      "metadata": {
        "id": "-JSqRxxu3Lvy",
        "colab_type": "text"
      },
      "source": [
        "Lo que vamos a hacer a continuación es decirle a nuestro algoritmos que tiene que clasificar o tomar sus decisiones utilizando el sistema ovr (one versus rest) y que nos muestre los estimadores de decisión de los die primeros elementos que conforman X_test:"
      ]
    },
    {
      "cell_type": "code",
      "metadata": {
        "id": "MJeVHrSK2nJc",
        "colab_type": "code",
        "colab": {
          "base_uri": "https://localhost:8080/",
          "height": 187
        },
        "outputId": "402115af-eafc-4a9e-96fb-589b54c31571"
      },
      "source": [
        "alg.decision_function_shape = \"ovr\"\n",
        "alg.decision_function(X_test)[:10]"
      ],
      "execution_count": 6,
      "outputs": [
        {
          "output_type": "execute_result",
          "data": {
            "text/plain": [
              "array([[-0.20931449,  2.2418707 ,  0.83702048],\n",
              "       [ 2.22977203,  1.15508596, -0.25180914],\n",
              "       [-0.23955998,  1.07797359,  2.23074783],\n",
              "       [-0.21102688,  0.88289666,  2.23130177],\n",
              "       [-0.23090382,  1.00448471,  2.23047277],\n",
              "       [-0.22863198,  2.22230084,  1.05121423],\n",
              "       [-0.17199811,  2.23672964,  0.80646236],\n",
              "       [-0.23046184,  2.22639863,  1.0365415 ],\n",
              "       [-0.23815725,  1.19642015,  2.17211952],\n",
              "       [-0.23620371,  0.96271005,  2.23964251]])"
            ]
          },
          "metadata": {
            "tags": []
          },
          "execution_count": 6
        }
      ]
    },
    {
      "cell_type": "markdown",
      "metadata": {
        "id": "CY1XvPD25a2z",
        "colab_type": "text"
      },
      "source": [
        "Lo que se puede ver es la forma en que el algoritmo lo clasifica. Si lo he entendido bien, el algoritmo ha visto que hay tres grupos diferentes y los numeros nos muestran lo cerca que el dato esta de un grupo u otro. Cuanto mayor sea el número más seguro está el algoritmo de la pertenecia de este dato al grupo en cuestion.\n",
        "Así, el primer dato estaría en el grupo dos, el segundo en el uno, etc..."
      ]
    },
    {
      "cell_type": "markdown",
      "metadata": {
        "id": "xUHWvwtU6WzA",
        "colab_type": "text"
      },
      "source": [
        "La siguiente función nos muestra más o menos lo mismo pero utuliza probabilidades. Ahora podemos ver que el algorito cree que el primer dato debe de estar en el segundo grupo con una certeza del 97%."
      ]
    },
    {
      "cell_type": "code",
      "metadata": {
        "id": "mlnU1sAJ5WM3",
        "colab_type": "code",
        "colab": {
          "base_uri": "https://localhost:8080/",
          "height": 187
        },
        "outputId": "336506b0-6f5a-444e-b77e-267678befc7a"
      },
      "source": [
        "alg.predict_proba(X_test)[:10]"
      ],
      "execution_count": 7,
      "outputs": [
        {
          "output_type": "execute_result",
          "data": {
            "text/plain": [
              "array([[0.01522111, 0.97666427, 0.00811461],\n",
              "       [0.96149101, 0.02680358, 0.0117054 ],\n",
              "       [0.00913419, 0.02129931, 0.96956651],\n",
              "       [0.02073006, 0.01124201, 0.96802792],\n",
              "       [0.0114852 , 0.01796416, 0.97055064],\n",
              "       [0.00932302, 0.89255433, 0.09812265],\n",
              "       [0.04418322, 0.94221935, 0.01359744],\n",
              "       [0.00800548, 0.91368649, 0.07830802],\n",
              "       [0.01038986, 0.45310303, 0.53650711],\n",
              "       [0.00942599, 0.00738612, 0.98318789]])"
            ]
          },
          "metadata": {
            "tags": []
          },
          "execution_count": 7
        }
      ]
    },
    {
      "cell_type": "markdown",
      "metadata": {
        "id": "UybgqHWf7IVq",
        "colab_type": "text"
      },
      "source": [
        "Ahora veamos como el método predict nos muestra en que grupo cree que debe de ir cada dato:"
      ]
    },
    {
      "cell_type": "code",
      "metadata": {
        "id": "AfOh1LLV6bmR",
        "colab_type": "code",
        "colab": {
          "base_uri": "https://localhost:8080/",
          "height": 34
        },
        "outputId": "7e300e70-19e6-4735-f30b-8e14fcfc08a5"
      },
      "source": [
        "alg.predict(X_test)[:10]"
      ],
      "execution_count": 9,
      "outputs": [
        {
          "output_type": "execute_result",
          "data": {
            "text/plain": [
              "array([1, 0, 2, 2, 2, 1, 1, 1, 2, 2])"
            ]
          },
          "metadata": {
            "tags": []
          },
          "execution_count": 9
        }
      ]
    },
    {
      "cell_type": "markdown",
      "metadata": {
        "id": "QJ8zlGdb7hy1",
        "colab_type": "text"
      },
      "source": [
        "Este tipo de funciones nos pueden ayudar a la hora de escoger el método que más se ajuste a nuestro propósito, consiguiendo encontrar un proceso que tenga una mayor seguridad en la clasificación de los datos.\n",
        "¡OJO! Ya vismos en el ejemplo anterior que una seguridad demasiado elevada suele llevar problemas de sobreajuste. Algo que también hay que tener en cuenta."
      ]
    },
    {
      "cell_type": "code",
      "metadata": {
        "id": "0H3Mdpt069w3",
        "colab_type": "code",
        "colab": {}
      },
      "source": [
        ""
      ],
      "execution_count": null,
      "outputs": []
    }
  ]
}