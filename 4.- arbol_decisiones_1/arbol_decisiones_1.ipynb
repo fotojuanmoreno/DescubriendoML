{
  "nbformat": 4,
  "nbformat_minor": 0,
  "metadata": {
    "colab": {
      "name": "arbol_decisiones_1.ipynb",
      "provenance": [],
      "collapsed_sections": [],
      "authorship_tag": "ABX9TyNAn+xiT2hZkWnsvIOWdeq6",
      "include_colab_link": true
    },
    "kernelspec": {
      "name": "python3",
      "display_name": "Python 3"
    }
  },
  "cells": [
    {
      "cell_type": "markdown",
      "metadata": {
        "id": "view-in-github",
        "colab_type": "text"
      },
      "source": [
        "<a href=\"https://colab.research.google.com/github/fotojuanmoreno/DescubriendoML/blob/master/4.-%20arbol_decisiones_1/arbol_decisiones_1.ipynb\" target=\"_parent\"><img src=\"https://colab.research.google.com/assets/colab-badge.svg\" alt=\"Open In Colab\"/></a>"
      ]
    },
    {
      "cell_type": "markdown",
      "metadata": {
        "id": "yf1VzdW-NsGj",
        "colab_type": "text"
      },
      "source": [
        "Para este proyecto vamos a cargar una serie de librerías y elementos.\n",
        "Lo primero que haremos será importar DecisionTreeClassifier para generar nuestro arbol de decisiones. Igualmente importaremos dos bases de datos desde datasets y train_test_split para separar nuestros datos entre entrenamiento y prueba.\n",
        "\n",
        "El resto de elementos son herramientas que nos ayudarán a generan una versión visual de nuestro arbol de decisiones."
      ]
    },
    {
      "cell_type": "code",
      "metadata": {
        "id": "tWOjpuMIMVuR",
        "colab_type": "code",
        "colab": {}
      },
      "source": [
        "from sklearn.tree import DecisionTreeClassifier, export_graphviz\n",
        "from sklearn.datasets import load_breast_cancer, load_iris\n",
        "from sklearn.model_selection import train_test_split\n",
        "import graphviz\n",
        "import matplotlib.pyplot as plt\n",
        "import numpy as np"
      ],
      "execution_count": 1,
      "outputs": []
    },
    {
      "cell_type": "markdown",
      "metadata": {
        "id": "Q3IpyA4ZOifb",
        "colab_type": "text"
      },
      "source": [
        "Pasamos los datos a nuestra variable. En este caso vamos a usar la base iris, que contiene una gran cantidad de información sbre distintas flores y se organizan segun su tipo. Lo que vamos a hacer es crear el árbol de decisiones de como se diferencian y clasifican unas y otras."
      ]
    },
    {
      "cell_type": "code",
      "metadata": {
        "id": "xrTOxVIFOKp-",
        "colab_type": "code",
        "colab": {}
      },
      "source": [
        "iris = load_iris()"
      ],
      "execution_count": 2,
      "outputs": []
    },
    {
      "cell_type": "markdown",
      "metadata": {
        "id": "h8RTyApVOlgy",
        "colab_type": "text"
      },
      "source": [
        "dividimos los datos para entrenar y probar el algoritmo (esto ya se vio en pruebas anteriores)"
      ]
    },
    {
      "cell_type": "code",
      "metadata": {
        "id": "rTpv8ssROOc5",
        "colab_type": "code",
        "colab": {}
      },
      "source": [
        "X_train, X_test, Y_train, Y_test = train_test_split(iris.data, iris.target)"
      ],
      "execution_count": 3,
      "outputs": []
    },
    {
      "cell_type": "markdown",
      "metadata": {
        "id": "V2iz9eNQOudr",
        "colab_type": "text"
      },
      "source": [
        "asignamos a nuestra variable tree la función para generar nuestro arbol de decisiones."
      ]
    },
    {
      "cell_type": "code",
      "metadata": {
        "id": "MVpYazF5ObBG",
        "colab_type": "code",
        "colab": {}
      },
      "source": [
        "tree = DecisionTreeClassifier()"
      ],
      "execution_count": 5,
      "outputs": []
    },
    {
      "cell_type": "markdown",
      "metadata": {
        "id": "kcdL4l9wPF8J",
        "colab_type": "text"
      },
      "source": [
        "y entrenar nuestro modelo:"
      ]
    },
    {
      "cell_type": "code",
      "metadata": {
        "id": "wFxMqTseOdxx",
        "colab_type": "code",
        "colab": {
          "base_uri": "https://localhost:8080/",
          "height": 119
        },
        "outputId": "96cdd126-b79b-4d9a-f2a0-f2c42182e5c0"
      },
      "source": [
        "tree.fit(X_train, Y_train)"
      ],
      "execution_count": 6,
      "outputs": [
        {
          "output_type": "execute_result",
          "data": {
            "text/plain": [
              "DecisionTreeClassifier(ccp_alpha=0.0, class_weight=None, criterion='gini',\n",
              "                       max_depth=None, max_features=None, max_leaf_nodes=None,\n",
              "                       min_impurity_decrease=0.0, min_impurity_split=None,\n",
              "                       min_samples_leaf=1, min_samples_split=2,\n",
              "                       min_weight_fraction_leaf=0.0, presort='deprecated',\n",
              "                       random_state=None, splitter='best')"
            ]
          },
          "metadata": {
            "tags": []
          },
          "execution_count": 6
        }
      ]
    },
    {
      "cell_type": "markdown",
      "metadata": {
        "id": "WMNoshSRPUMF",
        "colab_type": "text"
      },
      "source": [
        "y con score podemos ver que tal ha aprendido nuestro algoritmo:"
      ]
    },
    {
      "cell_type": "code",
      "metadata": {
        "id": "Lhvqy869PIft",
        "colab_type": "code",
        "colab": {
          "base_uri": "https://localhost:8080/",
          "height": 34
        },
        "outputId": "e4fa6305-5cc9-415c-a9dd-eb02d4e11f5d"
      },
      "source": [
        "tree.score(X_test, Y_test)"
      ],
      "execution_count": 7,
      "outputs": [
        {
          "output_type": "execute_result",
          "data": {
            "text/plain": [
              "0.9210526315789473"
            ]
          },
          "metadata": {
            "tags": []
          },
          "execution_count": 7
        }
      ]
    },
    {
      "cell_type": "markdown",
      "metadata": {
        "id": "PFM0B31nPsDU",
        "colab_type": "text"
      },
      "source": [
        "Vamos a repetir este proceso, pero esta vez con los datos que utilizamos para entrenarlo. Esto nos da un acierto del 100%. Esto el Machine Learning se llama sobre ajuste y, por norma general, no implica algo bueno."
      ]
    },
    {
      "cell_type": "code",
      "metadata": {
        "id": "C2UbvEPXPc_1",
        "colab_type": "code",
        "colab": {
          "base_uri": "https://localhost:8080/",
          "height": 34
        },
        "outputId": "47a4ee79-3128-4552-c945-296b576e4897"
      },
      "source": [
        "tree.score(X_train, Y_train)"
      ],
      "execution_count": 8,
      "outputs": [
        {
          "output_type": "execute_result",
          "data": {
            "text/plain": [
              "1.0"
            ]
          },
          "metadata": {
            "tags": []
          },
          "execution_count": 8
        }
      ]
    },
    {
      "cell_type": "markdown",
      "metadata": {
        "id": "G_4uafVsQDgv",
        "colab_type": "text"
      },
      "source": [
        "Ahora vamos a generar un archivo .dot, este archivo guarda la información de nuestro arvol de decisiones y lo utilizaremos para generar una versión visual del mismo:\n"
      ]
    },
    {
      "cell_type": "code",
      "metadata": {
        "id": "KuGwu-E9Pq-l",
        "colab_type": "code",
        "colab": {}
      },
      "source": [
        "export_graphviz(tree, out_file = \"tree.dot\", class_names = iris.target_names, feature_names = iris.feature_names, impurity = False, filled = True)"
      ],
      "execution_count": 10,
      "outputs": []
    },
    {
      "cell_type": "code",
      "metadata": {
        "id": "P4U-CpqtQnk0",
        "colab_type": "code",
        "colab": {
          "base_uri": "https://localhost:8080/",
          "height": 934
        },
        "outputId": "3653b53c-b02b-4131-c889-3c052c3597f3"
      },
      "source": [
        "with open (\"tree.dot\") as f:\n",
        "  dot_graph = f.read()\n",
        "graphviz.Source(dot_graph)"
      ],
      "execution_count": 12,
      "outputs": [
        {
          "output_type": "execute_result",
          "data": {
            "text/plain": [
              "<graphviz.files.Source at 0x7eff2c8facc0>"
            ],
            "image/svg+xml": "<?xml version=\"1.0\" encoding=\"UTF-8\" standalone=\"no\"?>\n<!DOCTYPE svg PUBLIC \"-//W3C//DTD SVG 1.1//EN\"\n \"http://www.w3.org/Graphics/SVG/1.1/DTD/svg11.dtd\">\n<!-- Generated by graphviz version 2.40.1 (20161225.0304)\n -->\n<!-- Title: Tree Pages: 1 -->\n<svg width=\"757pt\" height=\"685pt\"\n viewBox=\"0.00 0.00 756.50 685.00\" xmlns=\"http://www.w3.org/2000/svg\" xmlns:xlink=\"http://www.w3.org/1999/xlink\">\n<g id=\"graph0\" class=\"graph\" transform=\"scale(1 1) rotate(0) translate(4 681)\">\n<title>Tree</title>\n<polygon fill=\"#ffffff\" stroke=\"transparent\" points=\"-4,4 -4,-681 752.5,-681 752.5,4 -4,4\"/>\n<!-- 0 -->\n<g id=\"node1\" class=\"node\">\n<title>0</title>\n<polygon fill=\"#ffffff\" stroke=\"#000000\" points=\"273,-677 109,-677 109,-609 273,-609 273,-677\"/>\n<text text-anchor=\"middle\" x=\"191\" y=\"-661.8\" font-family=\"Times,serif\" font-size=\"14.00\" fill=\"#000000\">petal length (cm) &lt;= 2.45</text>\n<text text-anchor=\"middle\" x=\"191\" y=\"-646.8\" font-family=\"Times,serif\" font-size=\"14.00\" fill=\"#000000\">samples = 112</text>\n<text text-anchor=\"middle\" x=\"191\" y=\"-631.8\" font-family=\"Times,serif\" font-size=\"14.00\" fill=\"#000000\">value = [38, 38, 36]</text>\n<text text-anchor=\"middle\" x=\"191\" y=\"-616.8\" font-family=\"Times,serif\" font-size=\"14.00\" fill=\"#000000\">class = setosa</text>\n</g>\n<!-- 1 -->\n<g id=\"node2\" class=\"node\">\n<title>1</title>\n<polygon fill=\"#e58139\" stroke=\"#000000\" points=\"170.5,-565.5 53.5,-565.5 53.5,-512.5 170.5,-512.5 170.5,-565.5\"/>\n<text text-anchor=\"middle\" x=\"112\" y=\"-550.3\" font-family=\"Times,serif\" font-size=\"14.00\" fill=\"#000000\">samples = 38</text>\n<text text-anchor=\"middle\" x=\"112\" y=\"-535.3\" font-family=\"Times,serif\" font-size=\"14.00\" fill=\"#000000\">value = [38, 0, 0]</text>\n<text text-anchor=\"middle\" x=\"112\" y=\"-520.3\" font-family=\"Times,serif\" font-size=\"14.00\" fill=\"#000000\">class = setosa</text>\n</g>\n<!-- 0&#45;&gt;1 -->\n<g id=\"edge1\" class=\"edge\">\n<title>0&#45;&gt;1</title>\n<path fill=\"none\" stroke=\"#000000\" d=\"M165.1324,-608.9465C156.5143,-597.6012 146.9094,-584.9567 138.2617,-573.5724\"/>\n<polygon fill=\"#000000\" stroke=\"#000000\" points=\"140.9979,-571.3882 132.1618,-565.5422 135.4237,-575.6224 140.9979,-571.3882\"/>\n<text text-anchor=\"middle\" x=\"128.778\" y=\"-586.6121\" font-family=\"Times,serif\" font-size=\"14.00\" fill=\"#000000\">True</text>\n</g>\n<!-- 2 -->\n<g id=\"node3\" class=\"node\">\n<title>2</title>\n<polygon fill=\"#f5fef8\" stroke=\"#000000\" points=\"353,-573 189,-573 189,-505 353,-505 353,-573\"/>\n<text text-anchor=\"middle\" x=\"271\" y=\"-557.8\" font-family=\"Times,serif\" font-size=\"14.00\" fill=\"#000000\">petal length (cm) &lt;= 4.75</text>\n<text text-anchor=\"middle\" x=\"271\" y=\"-542.8\" font-family=\"Times,serif\" font-size=\"14.00\" fill=\"#000000\">samples = 74</text>\n<text text-anchor=\"middle\" x=\"271\" y=\"-527.8\" font-family=\"Times,serif\" font-size=\"14.00\" fill=\"#000000\">value = [0, 38, 36]</text>\n<text text-anchor=\"middle\" x=\"271\" y=\"-512.8\" font-family=\"Times,serif\" font-size=\"14.00\" fill=\"#000000\">class = versicolor</text>\n</g>\n<!-- 0&#45;&gt;2 -->\n<g id=\"edge2\" class=\"edge\">\n<title>0&#45;&gt;2</title>\n<path fill=\"none\" stroke=\"#000000\" d=\"M217.195,-608.9465C224.0325,-600.0578 231.4834,-590.3716 238.601,-581.1188\"/>\n<polygon fill=\"#000000\" stroke=\"#000000\" points=\"241.4232,-583.1903 244.7462,-573.13 235.8748,-578.9223 241.4232,-583.1903\"/>\n<text text-anchor=\"middle\" x=\"247.9796\" y=\"-594.22\" font-family=\"Times,serif\" font-size=\"14.00\" fill=\"#000000\">False</text>\n</g>\n<!-- 3 -->\n<g id=\"node4\" class=\"node\">\n<title>3</title>\n<polygon fill=\"#3fe685\" stroke=\"#000000\" points=\"263.5,-469 98.5,-469 98.5,-401 263.5,-401 263.5,-469\"/>\n<text text-anchor=\"middle\" x=\"181\" y=\"-453.8\" font-family=\"Times,serif\" font-size=\"14.00\" fill=\"#000000\">sepal length (cm) &lt;= 4.95</text>\n<text text-anchor=\"middle\" x=\"181\" y=\"-438.8\" font-family=\"Times,serif\" font-size=\"14.00\" fill=\"#000000\">samples = 35</text>\n<text text-anchor=\"middle\" x=\"181\" y=\"-423.8\" font-family=\"Times,serif\" font-size=\"14.00\" fill=\"#000000\">value = [0, 34, 1]</text>\n<text text-anchor=\"middle\" x=\"181\" y=\"-408.8\" font-family=\"Times,serif\" font-size=\"14.00\" fill=\"#000000\">class = versicolor</text>\n</g>\n<!-- 2&#45;&gt;3 -->\n<g id=\"edge3\" class=\"edge\">\n<title>2&#45;&gt;3</title>\n<path fill=\"none\" stroke=\"#000000\" d=\"M241.5306,-504.9465C233.7607,-495.968 225.2868,-486.1758 217.2064,-476.8385\"/>\n<polygon fill=\"#000000\" stroke=\"#000000\" points=\"219.726,-474.4014 210.5356,-469.13 214.4328,-478.982 219.726,-474.4014\"/>\n</g>\n<!-- 6 -->\n<g id=\"node7\" class=\"node\">\n<title>6</title>\n<polygon fill=\"#8f50e8\" stroke=\"#000000\" points=\"442.5,-469 281.5,-469 281.5,-401 442.5,-401 442.5,-469\"/>\n<text text-anchor=\"middle\" x=\"362\" y=\"-453.8\" font-family=\"Times,serif\" font-size=\"14.00\" fill=\"#000000\">petal width (cm) &lt;= 1.75</text>\n<text text-anchor=\"middle\" x=\"362\" y=\"-438.8\" font-family=\"Times,serif\" font-size=\"14.00\" fill=\"#000000\">samples = 39</text>\n<text text-anchor=\"middle\" x=\"362\" y=\"-423.8\" font-family=\"Times,serif\" font-size=\"14.00\" fill=\"#000000\">value = [0, 4, 35]</text>\n<text text-anchor=\"middle\" x=\"362\" y=\"-408.8\" font-family=\"Times,serif\" font-size=\"14.00\" fill=\"#000000\">class = virginica</text>\n</g>\n<!-- 2&#45;&gt;6 -->\n<g id=\"edge6\" class=\"edge\">\n<title>2&#45;&gt;6</title>\n<path fill=\"none\" stroke=\"#000000\" d=\"M300.7968,-504.9465C308.653,-495.968 317.2212,-486.1758 325.3913,-476.8385\"/>\n<polygon fill=\"#000000\" stroke=\"#000000\" points=\"328.1852,-478.9606 332.1363,-469.13 322.9171,-474.351 328.1852,-478.9606\"/>\n</g>\n<!-- 4 -->\n<g id=\"node5\" class=\"node\">\n<title>4</title>\n<polygon fill=\"#8139e5\" stroke=\"#000000\" points=\"110,-357.5 0,-357.5 0,-304.5 110,-304.5 110,-357.5\"/>\n<text text-anchor=\"middle\" x=\"55\" y=\"-342.3\" font-family=\"Times,serif\" font-size=\"14.00\" fill=\"#000000\">samples = 1</text>\n<text text-anchor=\"middle\" x=\"55\" y=\"-327.3\" font-family=\"Times,serif\" font-size=\"14.00\" fill=\"#000000\">value = [0, 0, 1]</text>\n<text text-anchor=\"middle\" x=\"55\" y=\"-312.3\" font-family=\"Times,serif\" font-size=\"14.00\" fill=\"#000000\">class = virginica</text>\n</g>\n<!-- 3&#45;&gt;4 -->\n<g id=\"edge4\" class=\"edge\">\n<title>3&#45;&gt;4</title>\n<path fill=\"none\" stroke=\"#000000\" d=\"M139.7429,-400.9465C125.3303,-389.0504 109.1873,-375.726 94.8883,-363.9237\"/>\n<polygon fill=\"#000000\" stroke=\"#000000\" points=\"97.0971,-361.2086 87.1569,-357.5422 92.6411,-366.6071 97.0971,-361.2086\"/>\n</g>\n<!-- 5 -->\n<g id=\"node6\" class=\"node\">\n<title>5</title>\n<polygon fill=\"#39e581\" stroke=\"#000000\" points=\"245.5,-357.5 128.5,-357.5 128.5,-304.5 245.5,-304.5 245.5,-357.5\"/>\n<text text-anchor=\"middle\" x=\"187\" y=\"-342.3\" font-family=\"Times,serif\" font-size=\"14.00\" fill=\"#000000\">samples = 34</text>\n<text text-anchor=\"middle\" x=\"187\" y=\"-327.3\" font-family=\"Times,serif\" font-size=\"14.00\" fill=\"#000000\">value = [0, 34, 0]</text>\n<text text-anchor=\"middle\" x=\"187\" y=\"-312.3\" font-family=\"Times,serif\" font-size=\"14.00\" fill=\"#000000\">class = versicolor</text>\n</g>\n<!-- 3&#45;&gt;5 -->\n<g id=\"edge5\" class=\"edge\">\n<title>3&#45;&gt;5</title>\n<path fill=\"none\" stroke=\"#000000\" d=\"M182.9646,-400.9465C183.581,-390.2621 184.2639,-378.4254 184.8899,-367.5742\"/>\n<polygon fill=\"#000000\" stroke=\"#000000\" points=\"188.3869,-367.7272 185.4687,-357.5422 181.3985,-367.3239 188.3869,-367.7272\"/>\n</g>\n<!-- 7 -->\n<g id=\"node8\" class=\"node\">\n<title>7</title>\n<polygon fill=\"#ffffff\" stroke=\"#000000\" points=\"437,-365 275,-365 275,-297 437,-297 437,-365\"/>\n<text text-anchor=\"middle\" x=\"356\" y=\"-349.8\" font-family=\"Times,serif\" font-size=\"14.00\" fill=\"#000000\">sepal width (cm) &lt;= 2.65</text>\n<text text-anchor=\"middle\" x=\"356\" y=\"-334.8\" font-family=\"Times,serif\" font-size=\"14.00\" fill=\"#000000\">samples = 6</text>\n<text text-anchor=\"middle\" x=\"356\" y=\"-319.8\" font-family=\"Times,serif\" font-size=\"14.00\" fill=\"#000000\">value = [0, 3, 3]</text>\n<text text-anchor=\"middle\" x=\"356\" y=\"-304.8\" font-family=\"Times,serif\" font-size=\"14.00\" fill=\"#000000\">class = versicolor</text>\n</g>\n<!-- 6&#45;&gt;7 -->\n<g id=\"edge7\" class=\"edge\">\n<title>6&#45;&gt;7</title>\n<path fill=\"none\" stroke=\"#000000\" d=\"M360.0354,-400.9465C359.564,-392.776 359.0538,-383.9318 358.5598,-375.3697\"/>\n<polygon fill=\"#000000\" stroke=\"#000000\" points=\"362.0393,-374.9118 357.969,-365.13 355.0509,-375.315 362.0393,-374.9118\"/>\n</g>\n<!-- 14 -->\n<g id=\"node15\" class=\"node\">\n<title>14</title>\n<polygon fill=\"#853fe6\" stroke=\"#000000\" points=\"619,-365 455,-365 455,-297 619,-297 619,-365\"/>\n<text text-anchor=\"middle\" x=\"537\" y=\"-349.8\" font-family=\"Times,serif\" font-size=\"14.00\" fill=\"#000000\">petal length (cm) &lt;= 4.85</text>\n<text text-anchor=\"middle\" x=\"537\" y=\"-334.8\" font-family=\"Times,serif\" font-size=\"14.00\" fill=\"#000000\">samples = 33</text>\n<text text-anchor=\"middle\" x=\"537\" y=\"-319.8\" font-family=\"Times,serif\" font-size=\"14.00\" fill=\"#000000\">value = [0, 1, 32]</text>\n<text text-anchor=\"middle\" x=\"537\" y=\"-304.8\" font-family=\"Times,serif\" font-size=\"14.00\" fill=\"#000000\">class = virginica</text>\n</g>\n<!-- 6&#45;&gt;14 -->\n<g id=\"edge14\" class=\"edge\">\n<title>6&#45;&gt;14</title>\n<path fill=\"none\" stroke=\"#000000\" d=\"M419.3015,-400.9465C435.7694,-391.1599 453.8638,-380.4066 470.8207,-370.3294\"/>\n<polygon fill=\"#000000\" stroke=\"#000000\" points=\"472.7613,-373.2476 479.5697,-365.13 469.1851,-367.23 472.7613,-373.2476\"/>\n</g>\n<!-- 8 -->\n<g id=\"node9\" class=\"node\">\n<title>8</title>\n<polygon fill=\"#8139e5\" stroke=\"#000000\" points=\"262,-253.5 152,-253.5 152,-200.5 262,-200.5 262,-253.5\"/>\n<text text-anchor=\"middle\" x=\"207\" y=\"-238.3\" font-family=\"Times,serif\" font-size=\"14.00\" fill=\"#000000\">samples = 2</text>\n<text text-anchor=\"middle\" x=\"207\" y=\"-223.3\" font-family=\"Times,serif\" font-size=\"14.00\" fill=\"#000000\">value = [0, 0, 2]</text>\n<text text-anchor=\"middle\" x=\"207\" y=\"-208.3\" font-family=\"Times,serif\" font-size=\"14.00\" fill=\"#000000\">class = virginica</text>\n</g>\n<!-- 7&#45;&gt;8 -->\n<g id=\"edge8\" class=\"edge\">\n<title>7&#45;&gt;8</title>\n<path fill=\"none\" stroke=\"#000000\" d=\"M307.2118,-296.9465C289.8528,-284.8301 270.3709,-271.232 253.2324,-259.2696\"/>\n<polygon fill=\"#000000\" stroke=\"#000000\" points=\"255.2301,-256.3957 245.0268,-253.5422 251.2236,-262.1358 255.2301,-256.3957\"/>\n</g>\n<!-- 9 -->\n<g id=\"node10\" class=\"node\">\n<title>9</title>\n<polygon fill=\"#7beeab\" stroke=\"#000000\" points=\"438,-261 280,-261 280,-193 438,-193 438,-261\"/>\n<text text-anchor=\"middle\" x=\"359\" y=\"-245.8\" font-family=\"Times,serif\" font-size=\"14.00\" fill=\"#000000\">sepal length (cm) &lt;= 6.5</text>\n<text text-anchor=\"middle\" x=\"359\" y=\"-230.8\" font-family=\"Times,serif\" font-size=\"14.00\" fill=\"#000000\">samples = 4</text>\n<text text-anchor=\"middle\" x=\"359\" y=\"-215.8\" font-family=\"Times,serif\" font-size=\"14.00\" fill=\"#000000\">value = [0, 3, 1]</text>\n<text text-anchor=\"middle\" x=\"359\" y=\"-200.8\" font-family=\"Times,serif\" font-size=\"14.00\" fill=\"#000000\">class = versicolor</text>\n</g>\n<!-- 7&#45;&gt;9 -->\n<g id=\"edge9\" class=\"edge\">\n<title>7&#45;&gt;9</title>\n<path fill=\"none\" stroke=\"#000000\" d=\"M356.9823,-296.9465C357.218,-288.776 357.4731,-279.9318 357.7201,-271.3697\"/>\n<polygon fill=\"#000000\" stroke=\"#000000\" points=\"361.2256,-271.2268 358.0155,-261.13 354.2285,-271.0249 361.2256,-271.2268\"/>\n</g>\n<!-- 10 -->\n<g id=\"node11\" class=\"node\">\n<title>10</title>\n<polygon fill=\"#ffffff\" stroke=\"#000000\" points=\"294.5,-157 129.5,-157 129.5,-89 294.5,-89 294.5,-157\"/>\n<text text-anchor=\"middle\" x=\"212\" y=\"-141.8\" font-family=\"Times,serif\" font-size=\"14.00\" fill=\"#000000\">sepal length (cm) &lt;= 6.15</text>\n<text text-anchor=\"middle\" x=\"212\" y=\"-126.8\" font-family=\"Times,serif\" font-size=\"14.00\" fill=\"#000000\">samples = 2</text>\n<text text-anchor=\"middle\" x=\"212\" y=\"-111.8\" font-family=\"Times,serif\" font-size=\"14.00\" fill=\"#000000\">value = [0, 1, 1]</text>\n<text text-anchor=\"middle\" x=\"212\" y=\"-96.8\" font-family=\"Times,serif\" font-size=\"14.00\" fill=\"#000000\">class = versicolor</text>\n</g>\n<!-- 9&#45;&gt;10 -->\n<g id=\"edge10\" class=\"edge\">\n<title>9&#45;&gt;10</title>\n<path fill=\"none\" stroke=\"#000000\" d=\"M310.8667,-192.9465C297.4144,-183.4293 282.67,-172.9978 268.7688,-163.163\"/>\n<polygon fill=\"#000000\" stroke=\"#000000\" points=\"270.4264,-160.0483 260.2414,-157.13 266.3835,-165.7628 270.4264,-160.0483\"/>\n</g>\n<!-- 13 -->\n<g id=\"node14\" class=\"node\">\n<title>13</title>\n<polygon fill=\"#39e581\" stroke=\"#000000\" points=\"427.5,-149.5 312.5,-149.5 312.5,-96.5 427.5,-96.5 427.5,-149.5\"/>\n<text text-anchor=\"middle\" x=\"370\" y=\"-134.3\" font-family=\"Times,serif\" font-size=\"14.00\" fill=\"#000000\">samples = 2</text>\n<text text-anchor=\"middle\" x=\"370\" y=\"-119.3\" font-family=\"Times,serif\" font-size=\"14.00\" fill=\"#000000\">value = [0, 2, 0]</text>\n<text text-anchor=\"middle\" x=\"370\" y=\"-104.3\" font-family=\"Times,serif\" font-size=\"14.00\" fill=\"#000000\">class = versicolor</text>\n</g>\n<!-- 9&#45;&gt;13 -->\n<g id=\"edge13\" class=\"edge\">\n<title>9&#45;&gt;13</title>\n<path fill=\"none\" stroke=\"#000000\" d=\"M362.6018,-192.9465C363.7319,-182.2621 364.9838,-170.4254 366.1316,-159.5742\"/>\n<polygon fill=\"#000000\" stroke=\"#000000\" points=\"369.6213,-159.8549 367.1927,-149.5422 362.6602,-159.1185 369.6213,-159.8549\"/>\n</g>\n<!-- 11 -->\n<g id=\"node12\" class=\"node\">\n<title>11</title>\n<polygon fill=\"#39e581\" stroke=\"#000000\" points=\"204.5,-53 89.5,-53 89.5,0 204.5,0 204.5,-53\"/>\n<text text-anchor=\"middle\" x=\"147\" y=\"-37.8\" font-family=\"Times,serif\" font-size=\"14.00\" fill=\"#000000\">samples = 1</text>\n<text text-anchor=\"middle\" x=\"147\" y=\"-22.8\" font-family=\"Times,serif\" font-size=\"14.00\" fill=\"#000000\">value = [0, 1, 0]</text>\n<text text-anchor=\"middle\" x=\"147\" y=\"-7.8\" font-family=\"Times,serif\" font-size=\"14.00\" fill=\"#000000\">class = versicolor</text>\n</g>\n<!-- 10&#45;&gt;11 -->\n<g id=\"edge11\" class=\"edge\">\n<title>10&#45;&gt;11</title>\n<path fill=\"none\" stroke=\"#000000\" d=\"M189.0834,-88.9777C183.1006,-80.0954 176.6418,-70.5067 170.623,-61.5711\"/>\n<polygon fill=\"#000000\" stroke=\"#000000\" points=\"173.5067,-59.5871 165.0171,-53.2485 167.7009,-63.4978 173.5067,-59.5871\"/>\n</g>\n<!-- 12 -->\n<g id=\"node13\" class=\"node\">\n<title>12</title>\n<polygon fill=\"#8139e5\" stroke=\"#000000\" points=\"333,-53 223,-53 223,0 333,0 333,-53\"/>\n<text text-anchor=\"middle\" x=\"278\" y=\"-37.8\" font-family=\"Times,serif\" font-size=\"14.00\" fill=\"#000000\">samples = 1</text>\n<text text-anchor=\"middle\" x=\"278\" y=\"-22.8\" font-family=\"Times,serif\" font-size=\"14.00\" fill=\"#000000\">value = [0, 0, 1]</text>\n<text text-anchor=\"middle\" x=\"278\" y=\"-7.8\" font-family=\"Times,serif\" font-size=\"14.00\" fill=\"#000000\">class = virginica</text>\n</g>\n<!-- 10&#45;&gt;12 -->\n<g id=\"edge12\" class=\"edge\">\n<title>10&#45;&gt;12</title>\n<path fill=\"none\" stroke=\"#000000\" d=\"M235.2691,-88.9777C241.344,-80.0954 247.9021,-70.5067 254.0135,-61.5711\"/>\n<polygon fill=\"#000000\" stroke=\"#000000\" points=\"256.9493,-63.4785 259.7057,-53.2485 251.1714,-59.5267 256.9493,-63.4785\"/>\n</g>\n<!-- 15 -->\n<g id=\"node16\" class=\"node\">\n<title>15</title>\n<polygon fill=\"#c09cf2\" stroke=\"#000000\" points=\"613.5,-261 458.5,-261 458.5,-193 613.5,-193 613.5,-261\"/>\n<text text-anchor=\"middle\" x=\"536\" y=\"-245.8\" font-family=\"Times,serif\" font-size=\"14.00\" fill=\"#000000\">sepal width (cm) &lt;= 3.1</text>\n<text text-anchor=\"middle\" x=\"536\" y=\"-230.8\" font-family=\"Times,serif\" font-size=\"14.00\" fill=\"#000000\">samples = 3</text>\n<text text-anchor=\"middle\" x=\"536\" y=\"-215.8\" font-family=\"Times,serif\" font-size=\"14.00\" fill=\"#000000\">value = [0, 1, 2]</text>\n<text text-anchor=\"middle\" x=\"536\" y=\"-200.8\" font-family=\"Times,serif\" font-size=\"14.00\" fill=\"#000000\">class = virginica</text>\n</g>\n<!-- 14&#45;&gt;15 -->\n<g id=\"edge15\" class=\"edge\">\n<title>14&#45;&gt;15</title>\n<path fill=\"none\" stroke=\"#000000\" d=\"M536.6726,-296.9465C536.594,-288.776 536.509,-279.9318 536.4266,-271.3697\"/>\n<polygon fill=\"#000000\" stroke=\"#000000\" points=\"539.9243,-271.0958 536.3282,-261.13 532.9246,-271.1632 539.9243,-271.0958\"/>\n</g>\n<!-- 18 -->\n<g id=\"node19\" class=\"node\">\n<title>18</title>\n<polygon fill=\"#8139e5\" stroke=\"#000000\" points=\"748.5,-253.5 631.5,-253.5 631.5,-200.5 748.5,-200.5 748.5,-253.5\"/>\n<text text-anchor=\"middle\" x=\"690\" y=\"-238.3\" font-family=\"Times,serif\" font-size=\"14.00\" fill=\"#000000\">samples = 30</text>\n<text text-anchor=\"middle\" x=\"690\" y=\"-223.3\" font-family=\"Times,serif\" font-size=\"14.00\" fill=\"#000000\">value = [0, 0, 30]</text>\n<text text-anchor=\"middle\" x=\"690\" y=\"-208.3\" font-family=\"Times,serif\" font-size=\"14.00\" fill=\"#000000\">class = virginica</text>\n</g>\n<!-- 14&#45;&gt;18 -->\n<g id=\"edge18\" class=\"edge\">\n<title>14&#45;&gt;18</title>\n<path fill=\"none\" stroke=\"#000000\" d=\"M587.0979,-296.9465C604.923,-284.8301 624.9279,-271.232 642.5265,-259.2696\"/>\n<polygon fill=\"#000000\" stroke=\"#000000\" points=\"644.6497,-262.0584 650.9524,-253.5422 640.7145,-256.2692 644.6497,-262.0584\"/>\n</g>\n<!-- 16 -->\n<g id=\"node17\" class=\"node\">\n<title>16</title>\n<polygon fill=\"#8139e5\" stroke=\"#000000\" points=\"581,-149.5 471,-149.5 471,-96.5 581,-96.5 581,-149.5\"/>\n<text text-anchor=\"middle\" x=\"526\" y=\"-134.3\" font-family=\"Times,serif\" font-size=\"14.00\" fill=\"#000000\">samples = 2</text>\n<text text-anchor=\"middle\" x=\"526\" y=\"-119.3\" font-family=\"Times,serif\" font-size=\"14.00\" fill=\"#000000\">value = [0, 0, 2]</text>\n<text text-anchor=\"middle\" x=\"526\" y=\"-104.3\" font-family=\"Times,serif\" font-size=\"14.00\" fill=\"#000000\">class = virginica</text>\n</g>\n<!-- 15&#45;&gt;16 -->\n<g id=\"edge16\" class=\"edge\">\n<title>15&#45;&gt;16</title>\n<path fill=\"none\" stroke=\"#000000\" d=\"M532.7256,-192.9465C531.6983,-182.2621 530.5601,-170.4254 529.5168,-159.5742\"/>\n<polygon fill=\"#000000\" stroke=\"#000000\" points=\"532.9933,-159.1612 528.5521,-149.5422 526.0254,-159.8313 532.9933,-159.1612\"/>\n</g>\n<!-- 17 -->\n<g id=\"node18\" class=\"node\">\n<title>17</title>\n<polygon fill=\"#39e581\" stroke=\"#000000\" points=\"714.5,-149.5 599.5,-149.5 599.5,-96.5 714.5,-96.5 714.5,-149.5\"/>\n<text text-anchor=\"middle\" x=\"657\" y=\"-134.3\" font-family=\"Times,serif\" font-size=\"14.00\" fill=\"#000000\">samples = 1</text>\n<text text-anchor=\"middle\" x=\"657\" y=\"-119.3\" font-family=\"Times,serif\" font-size=\"14.00\" fill=\"#000000\">value = [0, 1, 0]</text>\n<text text-anchor=\"middle\" x=\"657\" y=\"-104.3\" font-family=\"Times,serif\" font-size=\"14.00\" fill=\"#000000\">class = versicolor</text>\n</g>\n<!-- 15&#45;&gt;17 -->\n<g id=\"edge17\" class=\"edge\">\n<title>15&#45;&gt;17</title>\n<path fill=\"none\" stroke=\"#000000\" d=\"M575.6199,-192.9465C589.3324,-181.1606 604.6761,-167.9726 618.3127,-156.2519\"/>\n<polygon fill=\"#000000\" stroke=\"#000000\" points=\"620.8169,-158.7147 626.1192,-149.5422 616.2541,-153.4061 620.8169,-158.7147\"/>\n</g>\n</g>\n</svg>\n"
          },
          "metadata": {
            "tags": []
          },
          "execution_count": 12
        }
      ]
    },
    {
      "cell_type": "markdown",
      "metadata": {
        "id": "PWtjUbVBR1bR",
        "colab_type": "text"
      },
      "source": [
        "Ahora, utilizando matplotib, podemos generar una gráfica que nos muestre la importancia de los dstintos datos que contiene nuestra base a la hora de clasificarlos."
      ]
    },
    {
      "cell_type": "code",
      "metadata": {
        "id": "cNdMu9gzQ8AB",
        "colab_type": "code",
        "colab": {
          "base_uri": "https://localhost:8080/",
          "height": 280
        },
        "outputId": "084d5efb-f14f-41f2-d65e-07a8c8cc2506"
      },
      "source": [
        "caract = iris.data.shape[1]\n",
        "plt.barh(range(caract), tree.feature_importances_)\n",
        "plt.yticks(np.arange(caract), iris.feature_names)\n",
        "plt.xlabel(\"importancia de las características\")\n",
        "plt.ylabel(\"Características\")\n",
        "plt.show()"
      ],
      "execution_count": 13,
      "outputs": [
        {
          "output_type": "display_data",
          "data": {
            "image/png": "[encoded data removed]",
            "text/plain": [
              "<Figure size 432x288 with 1 Axes>"
            ]
          },
          "metadata": {
            "tags": [],
            "needs_background": "light"
          }
        }
      ]
    },
    {
      "cell_type": "markdown",
      "metadata": {
        "id": "30E_k1qRS25S",
        "colab_type": "text"
      },
      "source": [
        "Llama la atención que la pricipal caracteristica que utiliza para dividir y asignar su categoria a las distintas plantas el la longitud de sus pétalos.\n",
        "\n",
        "Vamos a probar alguna opción del arbol de decisioes con DecisionTreeClassifier. Nuestro arbol actual tiene una profundidad de 6 niveles. Estas son las veces que dubdivide la información según sus datos. Limitemoslo a 3. Para esto, depues de ajustar la profundidad, repetiremos el proceso y el entrenamiento. Como antes probaremos con los datos test y con los de entrenaiento:"
      ]
    },
    {
      "cell_type": "code",
      "metadata": {
        "id": "-Wlc0N6wSvBo",
        "colab_type": "code",
        "colab": {}
      },
      "source": [
        "tree = DecisionTreeClassifier(max_depth = 3)"
      ],
      "execution_count": 14,
      "outputs": []
    },
    {
      "cell_type": "code",
      "metadata": {
        "id": "4WByP_wuUCtS",
        "colab_type": "code",
        "colab": {
          "base_uri": "https://localhost:8080/",
          "height": 119
        },
        "outputId": "c26589a2-64f1-4f48-ad95-13fa698675a2"
      },
      "source": [
        "tree.fit(X_train, Y_train)"
      ],
      "execution_count": 15,
      "outputs": [
        {
          "output_type": "execute_result",
          "data": {
            "text/plain": [
              "DecisionTreeClassifier(ccp_alpha=0.0, class_weight=None, criterion='gini',\n",
              "                       max_depth=3, max_features=None, max_leaf_nodes=None,\n",
              "                       min_impurity_decrease=0.0, min_impurity_split=None,\n",
              "                       min_samples_leaf=1, min_samples_split=2,\n",
              "                       min_weight_fraction_leaf=0.0, presort='deprecated',\n",
              "                       random_state=None, splitter='best')"
            ]
          },
          "metadata": {
            "tags": []
          },
          "execution_count": 15
        }
      ]
    },
    {
      "cell_type": "code",
      "metadata": {
        "id": "PBVNzCSrUHpf",
        "colab_type": "code",
        "colab": {
          "base_uri": "https://localhost:8080/",
          "height": 34
        },
        "outputId": "410705d1-f982-4be3-faa1-97cd7e444947"
      },
      "source": [
        "tree.score(X_test, Y_test)"
      ],
      "execution_count": 16,
      "outputs": [
        {
          "output_type": "execute_result",
          "data": {
            "text/plain": [
              "0.9473684210526315"
            ]
          },
          "metadata": {
            "tags": []
          },
          "execution_count": 16
        }
      ]
    },
    {
      "cell_type": "code",
      "metadata": {
        "id": "D7O5_Uh5ULUl",
        "colab_type": "code",
        "colab": {
          "base_uri": "https://localhost:8080/",
          "height": 34
        },
        "outputId": "806dc2e3-4837-4e2f-f8b8-0b64e0921b8a"
      },
      "source": [
        "tree.score(X_train, Y_train)"
      ],
      "execution_count": 18,
      "outputs": [
        {
          "output_type": "execute_result",
          "data": {
            "text/plain": [
              "0.9642857142857143"
            ]
          },
          "metadata": {
            "tags": []
          },
          "execution_count": 18
        }
      ]
    },
    {
      "cell_type": "markdown",
      "metadata": {
        "id": "iv2HjjMRVEft",
        "colab_type": "text"
      },
      "source": [
        "Si subimos un poco en el código podemos ver que, con los datos de test hemos pasado de un 92% a un 94,7% y los datos de entremaniento han bajado de un 100% a un 96,4%. Esto se debe al sobre ajuste del que hablabamos antes. El algoritmo estaba creando excepciones para ajustarse mejor a los datos, pero esto probacaba un problema que le hacia fallar más que si no profundiza tanto.\n",
        "\n",
        "\n",
        "Vamos a utilizar matplotlib para visualizar esto (el siguiente código no lo he visto, simplemente esta ahí para ayudar, a visualizar esto y espero verlo más adelante):"
      ]
    },
    {
      "cell_type": "code",
      "metadata": {
        "id": "u3BT8hL5Ufvw",
        "colab_type": "code",
        "colab": {
          "base_uri": "https://localhost:8080/",
          "height": 308
        },
        "outputId": "7bef9313-122d-4197-ff7d-00bdab9bbcb5"
      },
      "source": [
        "n_classes = 3\n",
        "plot_colors = \"bry\"\n",
        "plot_step = 0.02\n",
        "\n",
        "for pairidx, pair in enumerate([[0, 1], [0, 2], [0, 3],\n",
        "                            [1, 2], [1, 3], [2, 3]]):\n",
        "  X = iris.data[:, pair]\n",
        "  y = iris.target\n",
        "\n",
        "  #train algorithm\n",
        "  clf = DecisionTreeClassifier().fit(X, y)\n",
        "\n",
        "  plt.subplot(2, 3, pairidx + 1)\n",
        "\n",
        "  x_min, x_max = X[:, 0].min() - 1, X[:, 0].max() + 1\n",
        "  y_min, y_max = X[:, 1].min() - 1, X[:, 1].max() + 1\n",
        "  xx, yy = np.meshgrid(np.arange(x_min, x_max, plot_step),\n",
        "                       np.arange(y_min, y_max, plot_step))\n",
        "  Z = clf.predict(np.c_[xx.ravel(), yy.ravel()])\n",
        "  Z = Z.reshape(xx.shape)\n",
        "  cs = plt.contourf(xx, yy, Z, cmap = plt.cm.Paired)\n",
        "\n",
        "  plt.xlabel(iris.feature_names[pair[0]])\n",
        "  plt.ylabel(iris.feature_names[pair[1]])\n",
        "  plt.axis(\"tight\")\n",
        "\n",
        "  #plot the training points\n",
        "  for i, color in zip(range(n_classes), plot_colors):\n",
        "    idx = np.where(y == i)\n",
        "    plt.scatter(X[idx, 0], X[idx, 1], c = color, label = iris.target_names[i],\n",
        "                cmap = plt.cm.Paired)\n",
        "  plt.axis(\"tight\")\n",
        "plt.suptitle(\"Ejemplos de clasificador de arboles\")\n",
        "plt.legend()\n",
        "plt.show()"
      ],
      "execution_count": 24,
      "outputs": [
        {
          "output_type": "display_data",
          "data": {
            "image/png": "[encoded data removed]",
            "text/plain": [
              "<Figure size 432x288 with 6 Axes>"
            ]
          },
          "metadata": {
            "tags": [],
            "needs_background": "light"
          }
        }
      ]
    },
    {
      "cell_type": "markdown",
      "metadata": {
        "id": "XtDn_sy1aRJf",
        "colab_type": "text"
      },
      "source": [
        "esos graficos muestras como el algoritmo divide los elementos para seleccionarlos. en varios de ellos se pueden ver lineas finas que sobresalen. Eso es el sobreajuste. El algoritmo crea una sección más pequeña para ajustarse a elementos concretos, con lo que el funcionamiento general se de perjudicado. \n",
        "\n",
        "Repitamos ahora el proceso, pero indiquemos el mismo ajuste que hicimos en nuesro código:"
      ]
    },
    {
      "cell_type": "code",
      "metadata": {
        "id": "GrPHIr3hZQSr",
        "colab_type": "code",
        "colab": {
          "base_uri": "https://localhost:8080/",
          "height": 308
        },
        "outputId": "aa3d223e-bb7f-4a02-beeb-296aa6785d40"
      },
      "source": [
        "n_classes = 3\n",
        "plot_colors = \"bry\"\n",
        "plot_step = 0.02\n",
        "\n",
        "for pairidx, pair in enumerate([[0, 1], [0, 2], [0, 3],\n",
        "                            [1, 2], [1, 3], [2, 3]]):\n",
        "  X = iris.data[:, pair]\n",
        "  y = iris.target\n",
        "\n",
        "  #train algorithm\n",
        "  clf = DecisionTreeClassifier(max_depth = 3).fit(X, y)\n",
        "\n",
        "  plt.subplot(2, 3, pairidx + 1)\n",
        "\n",
        "  x_min, x_max = X[:, 0].min() - 1, X[:, 0].max() + 1\n",
        "  y_min, y_max = X[:, 1].min() - 1, X[:, 1].max() + 1\n",
        "  xx, yy = np.meshgrid(np.arange(x_min, x_max, plot_step),\n",
        "                       np.arange(y_min, y_max, plot_step))\n",
        "  Z = clf.predict(np.c_[xx.ravel(), yy.ravel()])\n",
        "  Z = Z.reshape(xx.shape)\n",
        "  cs = plt.contourf(xx, yy, Z, cmap = plt.cm.Paired)\n",
        "\n",
        "  plt.xlabel(iris.feature_names[pair[0]])\n",
        "  plt.ylabel(iris.feature_names[pair[1]])\n",
        "  plt.axis(\"tight\")\n",
        "\n",
        "  #plot the training points\n",
        "  for i, color in zip(range(n_classes), plot_colors):\n",
        "    idx = np.where(y == i)\n",
        "    plt.scatter(X[idx, 0], X[idx, 1], c = color, label = iris.target_names[i],\n",
        "                cmap = plt.cm.Paired)\n",
        "  plt.axis(\"tight\")\n",
        "plt.suptitle(\"Ejemplos de clasificador de arboles\")\n",
        "plt.legend()\n",
        "plt.show()"
      ],
      "execution_count": 25,
      "outputs": [
        {
          "output_type": "display_data",
          "data": {
            "image/png": "[encoded data removed]",
            "text/plain": [
              "<Figure size 432x288 with 6 Axes>"
            ]
          },
          "metadata": {
            "tags": [],
            "needs_background": "light"
          }
        }
      ]
    },
    {
      "cell_type": "markdown",
      "metadata": {
        "id": "fZ987vP7a5w6",
        "colab_type": "text"
      },
      "source": [
        "Ahora la gráfica se ve más limpia y el sobre ajuste es menor."
      ]
    },
    {
      "cell_type": "code",
      "metadata": {
        "id": "hJ5hKCFmazeT",
        "colab_type": "code",
        "colab": {}
      },
      "source": [
        ""
      ],
      "execution_count": null,
      "outputs": []
    }
  ]
}