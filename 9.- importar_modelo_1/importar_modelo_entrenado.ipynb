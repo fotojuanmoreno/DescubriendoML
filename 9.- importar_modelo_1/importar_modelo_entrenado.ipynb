{
  "nbformat": 4,
  "nbformat_minor": 0,
  "metadata": {
    "colab": {
      "name": "importar_modelo_entrenado.ipynb",
      "provenance": [],
      "collapsed_sections": [],
      "authorship_tag": "ABX9TyMNkjtc/J64FxC6pHQz14kV",
      "include_colab_link": true
    },
    "kernelspec": {
      "name": "python3",
      "display_name": "Python 3"
    }
  },
  "cells": [
    {
      "cell_type": "markdown",
      "metadata": {
        "id": "view-in-github",
        "colab_type": "text"
      },
      "source": [
        "<a href=\"https://colab.research.google.com/github/fotojuanmoreno/DescubriendoML/blob/master/9.-%20importar_modelo_1/importar_modelo_entrenado.ipynb\" target=\"_parent\"><img src=\"https://colab.research.google.com/assets/colab-badge.svg\" alt=\"Open In Colab\"/></a>"
      ]
    },
    {
      "cell_type": "markdown",
      "metadata": {
        "id": "yZe6uiikiRef",
        "colab_type": "text"
      },
      "source": [
        "\n",
        "Ahora que ya hemos exportado un modelo entrenado, veamos como importarlo a un nuevo proyecto.\n",
        "\n",
        "para importar el modelo tendremos que utilizar joblib y, para comprobar su funcionamiento, reutilizaremos el dataset iris"
      ]
    },
    {
      "cell_type": "code",
      "metadata": {
        "id": "s5FlJhhgiLJu",
        "colab_type": "code",
        "colab": {
          "base_uri": "https://localhost:8080/",
          "height": 71
        },
        "outputId": "bb1d2933-39ad-4461-b92f-a0255109ddab"
      },
      "source": [
        "from sklearn.externals import joblib\n",
        "from sklearn import datasets"
      ],
      "execution_count": 1,
      "outputs": [
        {
          "output_type": "stream",
          "text": [
            "/usr/local/lib/python3.6/dist-packages/sklearn/externals/joblib/__init__.py:15: FutureWarning: sklearn.externals.joblib is deprecated in 0.21 and will be removed in 0.23. Please import this functionality directly from joblib, which can be installed with: pip install joblib. If this warning is raised when loading pickled models, you may need to re-serialize those models with scikit-learn 0.21+.\n",
            "  warnings.warn(msg, category=FutureWarning)\n"
          ],
          "name": "stderr"
        }
      ]
    },
    {
      "cell_type": "markdown",
      "metadata": {
        "id": "HIjtgDFxjDoh",
        "colab_type": "text"
      },
      "source": [
        "Utilizando joblib podremos cargar el archivo de nuestro modelo. Para ello usaremos el método load:"
      ]
    },
    {
      "cell_type": "code",
      "metadata": {
        "id": "LqrTl5JWi-aB",
        "colab_type": "code",
        "colab": {}
      },
      "source": [
        "clf = joblib.load(\"modelo_enrenado.pkl\")"
      ],
      "execution_count": 2,
      "outputs": []
    },
    {
      "cell_type": "markdown",
      "metadata": {
        "id": "S8-lbjTFjauZ",
        "colab_type": "text"
      },
      "source": [
        "y ya que tnemos nuestro modelo, asignemos tambien a una variable nuestros datos para poder probar este:"
      ]
    },
    {
      "cell_type": "code",
      "metadata": {
        "id": "M1jxOPJyjXgs",
        "colab_type": "code",
        "colab": {}
      },
      "source": [
        "iris = datasets.load_iris()"
      ],
      "execution_count": 3,
      "outputs": []
    },
    {
      "cell_type": "markdown",
      "metadata": {
        "id": "fkEMt9urjoRt",
        "colab_type": "text"
      },
      "source": [
        "Hasta aquí hemos cargado nuestro modelo y el dataset de iris en unas variables, pero ni hemos entrenado el modelo ni hemos hecho nada con ellos. Comprobemos ahora si el modelo aun es capaz de realizar su lavor:"
      ]
    },
    {
      "cell_type": "code",
      "metadata": {
        "id": "jz9iJ1LwjlAh",
        "colab_type": "code",
        "colab": {
          "base_uri": "https://localhost:8080/",
          "height": 34
        },
        "outputId": "0554ae38-c699-4670-922e-d60a8dd24749"
      },
      "source": [
        "clf.score(iris.data, iris.target)"
      ],
      "execution_count": 4,
      "outputs": [
        {
          "output_type": "execute_result",
          "data": {
            "text/plain": [
              "0.9733333333333334"
            ]
          },
          "metadata": {
            "tags": []
          },
          "execution_count": 4
        }
      ]
    },
    {
      "cell_type": "markdown",
      "metadata": {
        "id": "VD45_zdNj8ax",
        "colab_type": "text"
      },
      "source": [
        "Pues parece que funciona. Ahora ya sabemos como importar un modelo entrenado."
      ]
    },
    {
      "cell_type": "code",
      "metadata": {
        "id": "pF9AgFeJj53o",
        "colab_type": "code",
        "colab": {}
      },
      "source": [
        ""
      ],
      "execution_count": null,
      "outputs": []
    }
  ]
}