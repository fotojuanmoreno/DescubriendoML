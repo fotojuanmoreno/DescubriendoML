{
  "nbformat": 4,
  "nbformat_minor": 0,
  "metadata": {
    "colab": {
      "name": "Pandas.ipynb",
      "provenance": [],
      "collapsed_sections": [],
      "authorship_tag": "ABX9TyMIeinjcj6rAdE3AUu1AFNz",
      "include_colab_link": true
    },
    "kernelspec": {
      "name": "python3",
      "display_name": "Python 3"
    }
  },
  "cells": [
    {
      "cell_type": "markdown",
      "metadata": {
        "id": "view-in-github",
        "colab_type": "text"
      },
      "source": [
        "<a href=\"https://colab.research.google.com/github/fotojuanmoreno/DescubriendoML/blob/master/Pandas.ipynb\" target=\"_parent\"><img src=\"https://colab.research.google.com/assets/colab-badge.svg\" alt=\"Open In Colab\"/></a>"
      ]
    },
    {
      "cell_type": "markdown",
      "metadata": {
        "id": "P2bbmXzaaVwB",
        "colab_type": "text"
      },
      "source": [
        "Cargamos las librerias"
      ]
    },
    {
      "cell_type": "code",
      "metadata": {
        "id": "V2a7pWIcYM2M",
        "colab_type": "code",
        "colab": {}
      },
      "source": [
        "import pandas as pd\n",
        "import matplotlib.pyplot as plt"
      ],
      "execution_count": null,
      "outputs": []
    },
    {
      "cell_type": "markdown",
      "metadata": {
        "id": "0ffBOUHuaePM",
        "colab_type": "text"
      },
      "source": [
        "Cargamos el archivo o db. Le indicamos que no tiene linea de cabecera."
      ]
    },
    {
      "cell_type": "code",
      "metadata": {
        "id": "wBk2j8PKYi58",
        "colab_type": "code",
        "colab": {}
      },
      "source": [
        "data = pd.read_csv(\"car.csv\", header = None)"
      ],
      "execution_count": null,
      "outputs": []
    },
    {
      "cell_type": "code",
      "metadata": {
        "id": "J4NPmAosanHJ",
        "colab_type": "code",
        "colab": {}
      },
      "source": [
        "mos los titulos de las columnas."
      ],
      "execution_count": null,
      "outputs": []
    },
    {
      "cell_type": "markdown",
      "metadata": {
        "id": "Jjj32C40amNr",
        "colab_type": "text"
      },
      "source": [
        ""
      ]
    },
    {
      "cell_type": "code",
      "metadata": {
        "id": "cOwSoo8OZk2W",
        "colab_type": "code",
        "colab": {}
      },
      "source": [
        "data.columns = [\"Price\", \"Maintenance Cost\", \"Number of Doors\", \"Capacity\", \"Size of Luggage Boot\", \"Safety\", \"Decision\"]"
      ],
      "execution_count": null,
      "outputs": []
    },
    {
      "cell_type": "markdown",
      "metadata": {
        "id": "UPUqGenvaqNn",
        "colab_type": "text"
      },
      "source": [
        "Con head() vemos los 5 primeros valores de nuestro csv."
      ]
    },
    {
      "cell_type": "code",
      "metadata": {
        "id": "Rf3HAmvdZ-Oc",
        "colab_type": "code",
        "colab": {
          "base_uri": "https://localhost:8080/",
          "height": 204
        },
        "outputId": "27785151-3682-424f-9501-69be8ed4edc0"
      },
      "source": [
        "data.head(5)"
      ],
      "execution_count": null,
      "outputs": [
        {
          "output_type": "execute_result",
          "data": {
            "text/html": [
              "<div>\n",
              "<style scoped>\n",
              "    .dataframe tbody tr th:only-of-type {\n",
              "        vertical-align: middle;\n",
              "    }\n",
              "\n",
              "    .dataframe tbody tr th {\n",
              "        vertical-align: top;\n",
              "    }\n",
              "\n",
              "    .dataframe thead th {\n",
              "        text-align: right;\n",
              "    }\n",
              "</style>\n",
              "<table border=\"1\" class=\"dataframe\">\n",
              "  <thead>\n",
              "    <tr style=\"text-align: right;\">\n",
              "      <th></th>\n",
              "      <th>Price</th>\n",
              "      <th>Maintenance Cost</th>\n",
              "      <th>Number of Doors</th>\n",
              "      <th>Capacity</th>\n",
              "      <th>Size of Luggage Boot</th>\n",
              "      <th>Safety</th>\n",
              "      <th>Decision</th>\n",
              "    </tr>\n",
              "  </thead>\n",
              "  <tbody>\n",
              "    <tr>\n",
              "      <th>0</th>\n",
              "      <td>vhigh</td>\n",
              "      <td>vhigh</td>\n",
              "      <td>2</td>\n",
              "      <td>2</td>\n",
              "      <td>small</td>\n",
              "      <td>low</td>\n",
              "      <td>unacc</td>\n",
              "    </tr>\n",
              "    <tr>\n",
              "      <th>1</th>\n",
              "      <td>vhigh</td>\n",
              "      <td>vhigh</td>\n",
              "      <td>2</td>\n",
              "      <td>2</td>\n",
              "      <td>small</td>\n",
              "      <td>med</td>\n",
              "      <td>unacc</td>\n",
              "    </tr>\n",
              "    <tr>\n",
              "      <th>2</th>\n",
              "      <td>vhigh</td>\n",
              "      <td>vhigh</td>\n",
              "      <td>2</td>\n",
              "      <td>2</td>\n",
              "      <td>small</td>\n",
              "      <td>high</td>\n",
              "      <td>unacc</td>\n",
              "    </tr>\n",
              "    <tr>\n",
              "      <th>3</th>\n",
              "      <td>vhigh</td>\n",
              "      <td>vhigh</td>\n",
              "      <td>2</td>\n",
              "      <td>2</td>\n",
              "      <td>med</td>\n",
              "      <td>low</td>\n",
              "      <td>unacc</td>\n",
              "    </tr>\n",
              "    <tr>\n",
              "      <th>4</th>\n",
              "      <td>vhigh</td>\n",
              "      <td>vhigh</td>\n",
              "      <td>2</td>\n",
              "      <td>2</td>\n",
              "      <td>med</td>\n",
              "      <td>med</td>\n",
              "      <td>unacc</td>\n",
              "    </tr>\n",
              "  </tbody>\n",
              "</table>\n",
              "</div>"
            ],
            "text/plain": [
              "   Price Maintenance Cost Number of Doors  ... Size of Luggage Boot Safety Decision\n",
              "0  vhigh            vhigh               2  ...                small    low    unacc\n",
              "1  vhigh            vhigh               2  ...                small    med    unacc\n",
              "2  vhigh            vhigh               2  ...                small   high    unacc\n",
              "3  vhigh            vhigh               2  ...                  med    low    unacc\n",
              "4  vhigh            vhigh               2  ...                  med    med    unacc\n",
              "\n",
              "[5 rows x 7 columns]"
            ]
          },
          "metadata": {
            "tags": []
          },
          "execution_count": 6
        }
      ]
    },
    {
      "cell_type": "markdown",
      "metadata": {
        "id": "jk1fMl8XayXV",
        "colab_type": "text"
      },
      "source": [
        "También podemos utilizar sample(), que nos dará una muerta aleatoria."
      ]
    },
    {
      "cell_type": "code",
      "metadata": {
        "id": "ceCH68kBaKL0",
        "colab_type": "code",
        "colab": {
          "base_uri": "https://localhost:8080/",
          "height": 204
        },
        "outputId": "6fa5d48b-9a40-4419-c1c0-5bcabfd0aad2"
      },
      "source": [
        "data.sample(5)"
      ],
      "execution_count": null,
      "outputs": [
        {
          "output_type": "execute_result",
          "data": {
            "text/html": [
              "<div>\n",
              "<style scoped>\n",
              "    .dataframe tbody tr th:only-of-type {\n",
              "        vertical-align: middle;\n",
              "    }\n",
              "\n",
              "    .dataframe tbody tr th {\n",
              "        vertical-align: top;\n",
              "    }\n",
              "\n",
              "    .dataframe thead th {\n",
              "        text-align: right;\n",
              "    }\n",
              "</style>\n",
              "<table border=\"1\" class=\"dataframe\">\n",
              "  <thead>\n",
              "    <tr style=\"text-align: right;\">\n",
              "      <th></th>\n",
              "      <th>Price</th>\n",
              "      <th>Maintenance Cost</th>\n",
              "      <th>Number of Doors</th>\n",
              "      <th>Capacity</th>\n",
              "      <th>Size of Luggage Boot</th>\n",
              "      <th>Safety</th>\n",
              "      <th>Decision</th>\n",
              "    </tr>\n",
              "  </thead>\n",
              "  <tbody>\n",
              "    <tr>\n",
              "      <th>770</th>\n",
              "      <td>high</td>\n",
              "      <td>low</td>\n",
              "      <td>2</td>\n",
              "      <td>4</td>\n",
              "      <td>med</td>\n",
              "      <td>high</td>\n",
              "      <td>acc</td>\n",
              "    </tr>\n",
              "    <tr>\n",
              "      <th>1628</th>\n",
              "      <td>low</td>\n",
              "      <td>low</td>\n",
              "      <td>2</td>\n",
              "      <td>2</td>\n",
              "      <td>big</td>\n",
              "      <td>high</td>\n",
              "      <td>unacc</td>\n",
              "    </tr>\n",
              "    <tr>\n",
              "      <th>1440</th>\n",
              "      <td>low</td>\n",
              "      <td>high</td>\n",
              "      <td>3</td>\n",
              "      <td>4</td>\n",
              "      <td>small</td>\n",
              "      <td>low</td>\n",
              "      <td>unacc</td>\n",
              "    </tr>\n",
              "    <tr>\n",
              "      <th>1322</th>\n",
              "      <td>low</td>\n",
              "      <td>vhigh</td>\n",
              "      <td>2</td>\n",
              "      <td>more</td>\n",
              "      <td>big</td>\n",
              "      <td>high</td>\n",
              "      <td>acc</td>\n",
              "    </tr>\n",
              "    <tr>\n",
              "      <th>78</th>\n",
              "      <td>vhigh</td>\n",
              "      <td>vhigh</td>\n",
              "      <td>4</td>\n",
              "      <td>more</td>\n",
              "      <td>big</td>\n",
              "      <td>low</td>\n",
              "      <td>unacc</td>\n",
              "    </tr>\n",
              "  </tbody>\n",
              "</table>\n",
              "</div>"
            ],
            "text/plain": [
              "      Price Maintenance Cost  ... Safety Decision\n",
              "770    high              low  ...   high      acc\n",
              "1628    low              low  ...   high    unacc\n",
              "1440    low             high  ...    low    unacc\n",
              "1322    low            vhigh  ...   high      acc\n",
              "78    vhigh            vhigh  ...    low    unacc\n",
              "\n",
              "[5 rows x 7 columns]"
            ]
          },
          "metadata": {
            "tags": []
          },
          "execution_count": 7
        }
      ]
    },
    {
      "cell_type": "markdown",
      "metadata": {
        "id": "hEMS5JH-a8tW",
        "colab_type": "text"
      },
      "source": [
        "O tail(), que nos muestra los 5 últimos resultados."
      ]
    },
    {
      "cell_type": "code",
      "metadata": {
        "id": "fwkSziRdaN7w",
        "colab_type": "code",
        "colab": {
          "base_uri": "https://localhost:8080/",
          "height": 204
        },
        "outputId": "109a8ae3-312e-48ad-ae66-5d03b195882b"
      },
      "source": [
        "data.tail(5)"
      ],
      "execution_count": null,
      "outputs": [
        {
          "output_type": "execute_result",
          "data": {
            "text/html": [
              "<div>\n",
              "<style scoped>\n",
              "    .dataframe tbody tr th:only-of-type {\n",
              "        vertical-align: middle;\n",
              "    }\n",
              "\n",
              "    .dataframe tbody tr th {\n",
              "        vertical-align: top;\n",
              "    }\n",
              "\n",
              "    .dataframe thead th {\n",
              "        text-align: right;\n",
              "    }\n",
              "</style>\n",
              "<table border=\"1\" class=\"dataframe\">\n",
              "  <thead>\n",
              "    <tr style=\"text-align: right;\">\n",
              "      <th></th>\n",
              "      <th>Price</th>\n",
              "      <th>Maintenance Cost</th>\n",
              "      <th>Number of Doors</th>\n",
              "      <th>Capacity</th>\n",
              "      <th>Size of Luggage Boot</th>\n",
              "      <th>Safety</th>\n",
              "      <th>Decision</th>\n",
              "    </tr>\n",
              "  </thead>\n",
              "  <tbody>\n",
              "    <tr>\n",
              "      <th>1723</th>\n",
              "      <td>low</td>\n",
              "      <td>low</td>\n",
              "      <td>5more</td>\n",
              "      <td>more</td>\n",
              "      <td>med</td>\n",
              "      <td>med</td>\n",
              "      <td>good</td>\n",
              "    </tr>\n",
              "    <tr>\n",
              "      <th>1724</th>\n",
              "      <td>low</td>\n",
              "      <td>low</td>\n",
              "      <td>5more</td>\n",
              "      <td>more</td>\n",
              "      <td>med</td>\n",
              "      <td>high</td>\n",
              "      <td>vgood</td>\n",
              "    </tr>\n",
              "    <tr>\n",
              "      <th>1725</th>\n",
              "      <td>low</td>\n",
              "      <td>low</td>\n",
              "      <td>5more</td>\n",
              "      <td>more</td>\n",
              "      <td>big</td>\n",
              "      <td>low</td>\n",
              "      <td>unacc</td>\n",
              "    </tr>\n",
              "    <tr>\n",
              "      <th>1726</th>\n",
              "      <td>low</td>\n",
              "      <td>low</td>\n",
              "      <td>5more</td>\n",
              "      <td>more</td>\n",
              "      <td>big</td>\n",
              "      <td>med</td>\n",
              "      <td>good</td>\n",
              "    </tr>\n",
              "    <tr>\n",
              "      <th>1727</th>\n",
              "      <td>low</td>\n",
              "      <td>low</td>\n",
              "      <td>5more</td>\n",
              "      <td>more</td>\n",
              "      <td>big</td>\n",
              "      <td>high</td>\n",
              "      <td>vgood</td>\n",
              "    </tr>\n",
              "  </tbody>\n",
              "</table>\n",
              "</div>"
            ],
            "text/plain": [
              "     Price Maintenance Cost  ... Safety Decision\n",
              "1723   low              low  ...    med     good\n",
              "1724   low              low  ...   high    vgood\n",
              "1725   low              low  ...    low    unacc\n",
              "1726   low              low  ...    med     good\n",
              "1727   low              low  ...   high    vgood\n",
              "\n",
              "[5 rows x 7 columns]"
            ]
          },
          "metadata": {
            "tags": []
          },
          "execution_count": 8
        }
      ]
    },
    {
      "cell_type": "markdown",
      "metadata": {
        "id": "mKl-dGZEbKYk",
        "colab_type": "text"
      },
      "source": [
        "La sigientre entrada de código nos devuelve el nuemero de filas y columnas que tiee nuestro archivo."
      ]
    },
    {
      "cell_type": "code",
      "metadata": {
        "id": "c3MD4xRmbCik",
        "colab_type": "code",
        "colab": {
          "base_uri": "https://localhost:8080/",
          "height": 34
        },
        "outputId": "f2b1bc93-664e-4685-c65b-43c975a7c142"
      },
      "source": [
        "data.shape"
      ],
      "execution_count": null,
      "outputs": [
        {
          "output_type": "execute_result",
          "data": {
            "text/plain": [
              "(1728, 7)"
            ]
          },
          "metadata": {
            "tags": []
          },
          "execution_count": 10
        }
      ]
    },
    {
      "cell_type": "markdown",
      "metadata": {
        "id": "OJHeXSSMbgJJ",
        "colab_type": "text"
      },
      "source": [
        "Si quisieramos ver el número totak de datos que contiene utilizaríamos .size: Que basicamente multilica las filas y las columnas."
      ]
    },
    {
      "cell_type": "code",
      "metadata": {
        "id": "8RK-1pR1bWzJ",
        "colab_type": "code",
        "colab": {
          "base_uri": "https://localhost:8080/",
          "height": 34
        },
        "outputId": "1ce193bc-d3e6-41f4-c438-7445c800245e"
      },
      "source": [
        "data.size"
      ],
      "execution_count": null,
      "outputs": [
        {
          "output_type": "execute_result",
          "data": {
            "text/plain": [
              "12096"
            ]
          },
          "metadata": {
            "tags": []
          },
          "execution_count": 11
        }
      ]
    },
    {
      "cell_type": "markdown",
      "metadata": {
        "id": "nHnJkrsLbrsr",
        "colab_type": "text"
      },
      "source": [
        "Tambien podemos aplicar head, sample o tail a elementos o columnas concretas:"
      ]
    },
    {
      "cell_type": "code",
      "metadata": {
        "id": "e2z9FANZbsAt",
        "colab_type": "code",
        "colab": {
          "base_uri": "https://localhost:8080/",
          "height": 119
        },
        "outputId": "53fd5886-0561-4995-b8e1-d1443c95194c"
      },
      "source": [
        "data[\"Price\"].head(5)"
      ],
      "execution_count": null,
      "outputs": [
        {
          "output_type": "execute_result",
          "data": {
            "text/plain": [
              "0    vhigh\n",
              "1    vhigh\n",
              "2    vhigh\n",
              "3    vhigh\n",
              "4    vhigh\n",
              "Name: Price, dtype: object"
            ]
          },
          "metadata": {
            "tags": []
          },
          "execution_count": 12
        }
      ]
    },
    {
      "cell_type": "markdown",
      "metadata": {
        "id": "LQ9ckFozb3Q5",
        "colab_type": "text"
      },
      "source": [
        "Podemos pedirle que de la columna Price, nos puestre los tres primero valores:"
      ]
    },
    {
      "cell_type": "code",
      "metadata": {
        "id": "gxUUXakeb3mX",
        "colab_type": "code",
        "colab": {
          "base_uri": "https://localhost:8080/",
          "height": 85
        },
        "outputId": "232f8b9e-f057-4022-ff36-0cd5c6f7671d"
      },
      "source": [
        "data[\"Price\"][:3]"
      ],
      "execution_count": null,
      "outputs": [
        {
          "output_type": "execute_result",
          "data": {
            "text/plain": [
              "0    vhigh\n",
              "1    vhigh\n",
              "2    vhigh\n",
              "Name: Price, dtype: object"
            ]
          },
          "metadata": {
            "tags": []
          },
          "execution_count": 13
        }
      ]
    },
    {
      "cell_type": "markdown",
      "metadata": {
        "id": "DFEwOxZcctHV",
        "colab_type": "text"
      },
      "source": [
        "O agrupar varias columnas:"
      ]
    },
    {
      "cell_type": "code",
      "metadata": {
        "id": "iUZZCsx7cZv5",
        "colab_type": "code",
        "colab": {
          "base_uri": "https://localhost:8080/",
          "height": 204
        },
        "outputId": "c7f8f99a-eaec-472d-e947-1ee045ff875d"
      },
      "source": [
        "data[[\"Price\", \"Decision\"]].tail()"
      ],
      "execution_count": null,
      "outputs": [
        {
          "output_type": "execute_result",
          "data": {
            "text/html": [
              "<div>\n",
              "<style scoped>\n",
              "    .dataframe tbody tr th:only-of-type {\n",
              "        vertical-align: middle;\n",
              "    }\n",
              "\n",
              "    .dataframe tbody tr th {\n",
              "        vertical-align: top;\n",
              "    }\n",
              "\n",
              "    .dataframe thead th {\n",
              "        text-align: right;\n",
              "    }\n",
              "</style>\n",
              "<table border=\"1\" class=\"dataframe\">\n",
              "  <thead>\n",
              "    <tr style=\"text-align: right;\">\n",
              "      <th></th>\n",
              "      <th>Price</th>\n",
              "      <th>Decision</th>\n",
              "    </tr>\n",
              "  </thead>\n",
              "  <tbody>\n",
              "    <tr>\n",
              "      <th>1723</th>\n",
              "      <td>low</td>\n",
              "      <td>good</td>\n",
              "    </tr>\n",
              "    <tr>\n",
              "      <th>1724</th>\n",
              "      <td>low</td>\n",
              "      <td>vgood</td>\n",
              "    </tr>\n",
              "    <tr>\n",
              "      <th>1725</th>\n",
              "      <td>low</td>\n",
              "      <td>unacc</td>\n",
              "    </tr>\n",
              "    <tr>\n",
              "      <th>1726</th>\n",
              "      <td>low</td>\n",
              "      <td>good</td>\n",
              "    </tr>\n",
              "    <tr>\n",
              "      <th>1727</th>\n",
              "      <td>low</td>\n",
              "      <td>vgood</td>\n",
              "    </tr>\n",
              "  </tbody>\n",
              "</table>\n",
              "</div>"
            ],
            "text/plain": [
              "     Price Decision\n",
              "1723   low     good\n",
              "1724   low    vgood\n",
              "1725   low    unacc\n",
              "1726   low     good\n",
              "1727   low    vgood"
            ]
          },
          "metadata": {
            "tags": []
          },
          "execution_count": 15
        }
      ]
    },
    {
      "cell_type": "markdown",
      "metadata": {
        "id": "Pec2BP22cxD0",
        "colab_type": "text"
      },
      "source": [
        "value_counts() es un método muy interesante que nos devuelve el total de los distintos registros que aparecen en nuestro db, sumados:"
      ]
    },
    {
      "cell_type": "code",
      "metadata": {
        "id": "bk2O1LuscxKe",
        "colab_type": "code",
        "colab": {}
      },
      "source": [
        "decision = data[\"Decision\"].value_counts()"
      ],
      "execution_count": null,
      "outputs": []
    },
    {
      "cell_type": "code",
      "metadata": {
        "id": "Bludizxyd2ZS",
        "colab_type": "code",
        "colab": {
          "base_uri": "https://localhost:8080/",
          "height": 102
        },
        "outputId": "abfbda7b-5f3d-4a0b-a7de-e5606bc085f7"
      },
      "source": [
        "decision"
      ],
      "execution_count": null,
      "outputs": [
        {
          "output_type": "execute_result",
          "data": {
            "text/plain": [
              "unacc    1210\n",
              "acc       384\n",
              "good       69\n",
              "vgood      65\n",
              "Name: Decision, dtype: int64"
            ]
          },
          "metadata": {
            "tags": []
          },
          "execution_count": 22
        }
      ]
    },
    {
      "cell_type": "markdown",
      "metadata": {
        "id": "MdkQjCtVdNqb",
        "colab_type": "text"
      },
      "source": [
        "Añadiendo sort_index podremos ordenarlo alfabeticamente o en orden descendente cambiando True por False."
      ]
    },
    {
      "cell_type": "code",
      "metadata": {
        "id": "ePhaDx-FdNvC",
        "colab_type": "code",
        "colab": {
          "base_uri": "https://localhost:8080/",
          "height": 102
        },
        "outputId": "75f26bc9-d23b-40ca-aee8-262f4d2afc37"
      },
      "source": [
        "data[\"Decision\"].value_counts().sort_index(ascending = True)"
      ],
      "execution_count": null,
      "outputs": [
        {
          "output_type": "execute_result",
          "data": {
            "text/plain": [
              "acc       384\n",
              "good       69\n",
              "unacc    1210\n",
              "vgood      65\n",
              "Name: Decision, dtype: int64"
            ]
          },
          "metadata": {
            "tags": []
          },
          "execution_count": 20
        }
      ]
    },
    {
      "cell_type": "markdown",
      "metadata": {
        "id": "60qdMHugd5pz",
        "colab_type": "text"
      },
      "source": [
        "Ahora que nuestros datos ya están, más o menos, ordenados, podemos utilizar matplotlib para verlos de una manera más visual. El siguiente gráfico se nos muestra porque le hemos pedido al código que nos muestra una gáfica de tipo (kind) barras:"
      ]
    },
    {
      "cell_type": "code",
      "metadata": {
        "id": "VcGvOx5Gd5ui",
        "colab_type": "code",
        "colab": {
          "base_uri": "https://localhost:8080/",
          "height": 303
        },
        "outputId": "fc96348b-071d-4c8d-bc29-442e8bcdd3bb"
      },
      "source": [
        "decision.plot(kind = \"bar\")"
      ],
      "execution_count": null,
      "outputs": [
        {
          "output_type": "execute_result",
          "data": {
            "text/plain": [
              "<matplotlib.axes._subplots.AxesSubplot at 0x7fb5656bb320>"
            ]
          },
          "metadata": {
            "tags": []
          },
          "execution_count": 23
        },
        {
          "output_type": "display_data",
          "data": {
            "image/png": "[encoded data removed]",
            "text/plain": [
              "<Figure size 432x288 with 1 Axes>"
            ]
          },
          "metadata": {
            "tags": [],
            "needs_background": "light"
          }
        }
      ]
    },
    {
      "cell_type": "markdown",
      "metadata": {
        "id": "Trlw6DASeZPr",
        "colab_type": "text"
      },
      "source": [
        "unique nos muestra lo valores, sin repetir, que contiene una columna."
      ]
    },
    {
      "cell_type": "code",
      "metadata": {
        "id": "VImiZwKceZff",
        "colab_type": "code",
        "colab": {
          "base_uri": "https://localhost:8080/",
          "height": 34
        },
        "outputId": "a006b081-5666-41d3-9dd9-44dc3b40d1ff"
      },
      "source": [
        "data[\"Price\"].unique()"
      ],
      "execution_count": null,
      "outputs": [
        {
          "output_type": "execute_result",
          "data": {
            "text/plain": [
              "array(['vhigh', 'high', 'med', 'low'], dtype=object)"
            ]
          },
          "metadata": {
            "tags": []
          },
          "execution_count": 24
        }
      ]
    },
    {
      "cell_type": "markdown",
      "metadata": {
        "id": "2vcNrTGQfUJm",
        "colab_type": "text"
      },
      "source": [
        "Es más fácil o habitual trabajar con números cuando se pueda. Así que cambiemos los valores de Price por valores numéricos:"
      ]
    },
    {
      "cell_type": "code",
      "metadata": {
        "id": "CXdf6wZkfUQR",
        "colab_type": "code",
        "colab": {}
      },
      "source": [
        "data[\"Price\"].replace(('vhigh', 'high', 'med', 'low'), (4, 3, 2, 1), inplace = True)"
      ],
      "execution_count": null,
      "outputs": []
    },
    {
      "cell_type": "code",
      "metadata": {
        "id": "-YgfpF87gBJc",
        "colab_type": "code",
        "colab": {
          "base_uri": "https://localhost:8080/",
          "height": 34
        },
        "outputId": "c219d069-8eb4-4d35-e17c-fefa627a2425"
      },
      "source": [
        "data[\"Price\"].unique()"
      ],
      "execution_count": null,
      "outputs": [
        {
          "output_type": "execute_result",
          "data": {
            "text/plain": [
              "array([4, 3, 2, 1])"
            ]
          },
          "metadata": {
            "tags": []
          },
          "execution_count": 26
        }
      ]
    },
    {
      "cell_type": "markdown",
      "metadata": {
        "id": "6H14Qc5ygMDR",
        "colab_type": "text"
      },
      "source": [
        "Vamos a hacer una gráfica, esta vez un poco más completa. Vamos a ver los distintos valores y cuantas veces aparecen estos en price y luego, haciendi una variable de esto, crearemos la gráfica. La primera linea es solo para especificar algunos colores que utilizaremos. La segunda, como antes, crea la gráfica. Esta vez le hemos aadido el vaor color para que utilice los colores que le hemos dado. Las siguientes lineas crean los nombres para los ejes x e y y la última el titulo:"
      ]
    },
    {
      "cell_type": "code",
      "metadata": {
        "id": "vF7mtPIZgMrW",
        "colab_type": "code",
        "colab": {}
      },
      "source": [
        "price = data[\"Price\"].value_counts()"
      ],
      "execution_count": null,
      "outputs": []
    },
    {
      "cell_type": "code",
      "metadata": {
        "id": "5Jp-CHE-gS66",
        "colab_type": "code",
        "colab": {
          "base_uri": "https://localhost:8080/",
          "height": 309
        },
        "outputId": "ab33a184-368a-4d25-e0fe-d0d3f0925b1d"
      },
      "source": [
        "colors = [\"#EAAE01\", \"#CC0101\", \"#FF6011\", \"#BDD001\"]\n",
        "price.plot(kind = \"bar\", color = colors)\n",
        "plt.xlabel(\"Precio\")\n",
        "plt.ylabel(\"Coches\")\n",
        "plt.title(\"Precio de los coches\")"
      ],
      "execution_count": null,
      "outputs": [
        {
          "output_type": "execute_result",
          "data": {
            "text/plain": [
              "Text(0.5, 1.0, 'Precio de los coches')"
            ]
          },
          "metadata": {
            "tags": []
          },
          "execution_count": 36
        },
        {
          "output_type": "display_data",
          "data": {
            "image/png": "[encoded data removed]",
            "text/plain": [
              "<Figure size 432x288 with 1 Axes>"
            ]
          },
          "metadata": {
            "tags": [],
            "needs_background": "light"
          }
        }
      ]
    },
    {
      "cell_type": "markdown",
      "metadata": {
        "id": "2dfCKrsSiGz1",
        "colab_type": "text"
      },
      "source": [
        "Vamos a hacer ahora un grafico de tarta:"
      ]
    },
    {
      "cell_type": "markdown",
      "metadata": {
        "id": "UB7Kkb8hmxyX",
        "colab_type": "text"
      },
      "source": [
        "Vamos a utilizar los datos de la columna Safety, y lo primero que vamos a hacer es ver que datos contiene esta:"
      ]
    },
    {
      "cell_type": "code",
      "metadata": {
        "id": "lJoxYBUgiG-4",
        "colab_type": "code",
        "colab": {
          "base_uri": "https://localhost:8080/",
          "height": 85
        },
        "outputId": "b3b00d1e-bfce-4ab4-ba67-bf856739d539"
      },
      "source": [
        "data[\"Safety\"].value_counts()"
      ],
      "execution_count": null,
      "outputs": [
        {
          "output_type": "execute_result",
          "data": {
            "text/plain": [
              "low     576\n",
              "high    576\n",
              "med     576\n",
              "Name: Safety, dtype: int64"
            ]
          },
          "metadata": {
            "tags": []
          },
          "execution_count": 61
        }
      ]
    },
    {
      "cell_type": "markdown",
      "metadata": {
        "id": "BfI0dtfmnAv2",
        "colab_type": "text"
      },
      "source": [
        "Realizcemos unas variables que contengan: los nombre de los campos, los valores de estos, los colores que usaremos y los espacios que debe de haber entre los campos representados."
      ]
    },
    {
      "cell_type": "code",
      "metadata": {
        "id": "KoXy_uCsicRk",
        "colab_type": "code",
        "colab": {}
      },
      "source": [
        "labels = ['low', 'med', 'high']"
      ],
      "execution_count": null,
      "outputs": []
    },
    {
      "cell_type": "code",
      "metadata": {
        "id": "zJ5LcxZpizFz",
        "colab_type": "code",
        "colab": {}
      },
      "source": [
        "size = [576, 576, 576]\n",
        "color = [\"cyan\", \"green\", \"blue\"]\n",
        "explode = [0, 0.1, 0]"
      ],
      "execution_count": null,
      "outputs": []
    },
    {
      "cell_type": "markdown",
      "metadata": {
        "id": "m9_ImDr8nZ3-",
        "colab_type": "text"
      },
      "source": [
        "Ahora que ya lo tenemos generaremos nuestra gráfica. Le indicamos a matplotlib que será una grafica de tipo pie e introducimos los valores de las variables. El titulo, al que le hemos cambiado el tamaño, y le indicamos que no hay valores x e y que mostrar. colocamo nuestra leyenda y mostramos la gráfica:"
      ]
    },
    {
      "cell_type": "code",
      "metadata": {
        "id": "tOyHk-UqjMXD",
        "colab_type": "code",
        "colab": {
          "base_uri": "https://localhost:8080/",
          "height": 262
        },
        "outputId": "0130eb5a-f7e7-458e-9b27-412dd12bc5f5"
      },
      "source": [
        "plt.pie(size, labels = labels, colors = color, explode = explode, shadow = True, autopct = \"%.2f%%\")\n",
        "plt.title(\"Niveles de seguridad\", fontsize = 10)\n",
        "plt.axis(\"off\")\n",
        "plt.legend(loc = \"best\")\n",
        "plt.show()"
      ],
      "execution_count": null,
      "outputs": [
        {
          "output_type": "display_data",
          "data": {
            "image/png": "[encoded data removed]",
            "text/plain": [
              "<Figure size 432x288 with 1 Axes>"
            ]
          },
          "metadata": {
            "tags": []
          }
        }
      ]
    }
  ]
}