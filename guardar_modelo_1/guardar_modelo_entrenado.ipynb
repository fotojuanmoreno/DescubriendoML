{
  "nbformat": 4,
  "nbformat_minor": 0,
  "metadata": {
    "colab": {
      "name": "guardar_modelo_entrenado.ipynb",
      "provenance": [],
      "collapsed_sections": [],
      "authorship_tag": "ABX9TyMn7zI2VV+SupuCtFGmRF6M",
      "include_colab_link": true
    },
    "kernelspec": {
      "name": "python3",
      "display_name": "Python 3"
    }
  },
  "cells": [
    {
      "cell_type": "markdown",
      "metadata": {
        "id": "view-in-github",
        "colab_type": "text"
      },
      "source": [
        "<a href=\"https://colab.research.google.com/github/fotojuanmoreno/DescubriendoML/blob/master/guardar_modelo_1/guardar_modelo_entrenado.ipynb\" target=\"_parent\"><img src=\"https://colab.research.google.com/assets/colab-badge.svg\" alt=\"Open In Colab\"/></a>"
      ]
    },
    {
      "cell_type": "markdown",
      "metadata": {
        "id": "Y23y17dbOnJZ",
        "colab_type": "text"
      },
      "source": [
        "Si, a lo mejor es un poco pronto para estar ensando en como guardar nuestros modelos y es probable que sea muy pronto si tenemos en cuenta que hasta ahora solo he probado sklearn y no hemos entrado en las ligas de los mayores (tensorflow, keras...). Pero es un ejercicio interesante ver y entender como se genera, se guarda y se recupera un modelo.\n",
        "\n",
        "para este ejercicio utilizaremos un modelo de regresion lineal, el dataset iris y el clásico train_test_split. Ademas tendremos que importar joblib, una librería ue no permitirá exportar y guardar nuesro modelo:\n",
        "\n",
        "Como siempre comenzamos importado lo necesario:"
      ]
    },
    {
      "cell_type": "code",
      "metadata": {
        "id": "0Orb5PIxOjnm",
        "colab_type": "code",
        "colab": {}
      },
      "source": [
        "from sklearn import datasets, linear_model\n",
        "from sklearn.model_selection import train_test_split"
      ],
      "execution_count": 1,
      "outputs": []
    },
    {
      "cell_type": "markdown",
      "metadata": {
        "id": "IJHT_b9IPkGf",
        "colab_type": "text"
      },
      "source": [
        "Cargareemos nuestra db en una variable y crearemos una segunda que utilizaremos para nuestro modelo de regresión logística:"
      ]
    },
    {
      "cell_type": "code",
      "metadata": {
        "id": "XRRq6HZJPhXu",
        "colab_type": "code",
        "colab": {}
      },
      "source": [
        "iris = datasets.load_iris()\n",
        "clf = linear_model.LogisticRegression()"
      ],
      "execution_count": 2,
      "outputs": []
    },
    {
      "cell_type": "code",
      "metadata": {
        "id": "m9qShTlyP2Lj",
        "colab_type": "code",
        "colab": {
          "base_uri": "https://localhost:8080/",
          "height": 34
        },
        "outputId": "8ac656b8-9e2c-4150-8281-6f765b9f3043"
      },
      "source": [
        "iris.keys()"
      ],
      "execution_count": 3,
      "outputs": [
        {
          "output_type": "execute_result",
          "data": {
            "text/plain": [
              "dict_keys(['data', 'target', 'target_names', 'DESCR', 'feature_names', 'filename'])"
            ]
          },
          "metadata": {
            "tags": []
          },
          "execution_count": 3
        }
      ]
    },
    {
      "cell_type": "markdown",
      "metadata": {
        "id": "P9HPnsMLP5xS",
        "colab_type": "text"
      },
      "source": [
        "hemos llamado a iris.keys() para poder ver los nombres de las categorías y así saber cuales con las que nos interesan, en este caso data y target, que utilizaremos para entrenar nuestro modelo:"
      ]
    },
    {
      "cell_type": "code",
      "metadata": {
        "id": "qjS5SMwCP4SL",
        "colab_type": "code",
        "colab": {}
      },
      "source": [
        "X_train, X_test, Y_train, Y_test = train_test_split(iris.data, iris.target)"
      ],
      "execution_count": 5,
      "outputs": []
    },
    {
      "cell_type": "markdown",
      "metadata": {
        "id": "n9NQg4BeQQvZ",
        "colab_type": "text"
      },
      "source": [
        "como siempre solo nos queda entrenar nuestro modelo y comprobar que tal ha aprendido:"
      ]
    },
    {
      "cell_type": "code",
      "metadata": {
        "id": "NJvxvhKfQW_U",
        "colab_type": "code",
        "colab": {
          "base_uri": "https://localhost:8080/",
          "height": 238
        },
        "outputId": "cd1fbac2-0795-4a62-d19c-8c197a86dc0c"
      },
      "source": [
        "clf.fit(X_train, Y_train)"
      ],
      "execution_count": 7,
      "outputs": [
        {
          "output_type": "stream",
          "text": [
            "/usr/local/lib/python3.6/dist-packages/sklearn/linear_model/_logistic.py:940: ConvergenceWarning: lbfgs failed to converge (status=1):\n",
            "STOP: TOTAL NO. of ITERATIONS REACHED LIMIT.\n",
            "\n",
            "Increase the number of iterations (max_iter) or scale the data as shown in:\n",
            "    https://scikit-learn.org/stable/modules/preprocessing.html\n",
            "Please also refer to the documentation for alternative solver options:\n",
            "    https://scikit-learn.org/stable/modules/linear_model.html#logistic-regression\n",
            "  extra_warning_msg=_LOGISTIC_SOLVER_CONVERGENCE_MSG)\n"
          ],
          "name": "stderr"
        },
        {
          "output_type": "execute_result",
          "data": {
            "text/plain": [
              "LogisticRegression(C=1.0, class_weight=None, dual=False, fit_intercept=True,\n",
              "                   intercept_scaling=1, l1_ratio=None, max_iter=100,\n",
              "                   multi_class='auto', n_jobs=None, penalty='l2',\n",
              "                   random_state=None, solver='lbfgs', tol=0.0001, verbose=0,\n",
              "                   warm_start=False)"
            ]
          },
          "metadata": {
            "tags": []
          },
          "execution_count": 7
        }
      ]
    },
    {
      "cell_type": "code",
      "metadata": {
        "id": "lA7MCpnoQdnr",
        "colab_type": "code",
        "colab": {
          "base_uri": "https://localhost:8080/",
          "height": 34
        },
        "outputId": "a3bd020b-057f-4d4c-be6f-20f458eee38b"
      },
      "source": [
        "clf.score(X_test, Y_test)"
      ],
      "execution_count": 8,
      "outputs": [
        {
          "output_type": "execute_result",
          "data": {
            "text/plain": [
              "0.9473684210526315"
            ]
          },
          "metadata": {
            "tags": []
          },
          "execution_count": 8
        }
      ]
    },
    {
      "cell_type": "markdown",
      "metadata": {
        "id": "84Ff8l4_QrE-",
        "colab_type": "text"
      },
      "source": [
        "Ya tenemos un modelo entrenado y que no funciona mal. Lo siguiente que tendremos que hacer será guardarlo. Para esto importaremos la librería joblib. Esta librería contiene métodos que nos permitirán exporar o importar nuestro modelo. Así, lo unico que tendremos que hacer sera llamar al método dump y pasarlo por parametros nuestro modelo ya entrenado y el nombre con el que lo queremos guardar:"
      ]
    },
    {
      "cell_type": "code",
      "metadata": {
        "id": "EaqJiysiQleE",
        "colab_type": "code",
        "colab": {
          "base_uri": "https://localhost:8080/",
          "height": 34
        },
        "outputId": "aa5d711f-44ba-4b65-82ed-70cc52b6f7f3"
      },
      "source": [
        "from sklearn.externals import joblib\n",
        "joblib.dump(clf, \"modelo_enrenado.pkl\")"
      ],
      "execution_count": 10,
      "outputs": [
        {
          "output_type": "execute_result",
          "data": {
            "text/plain": [
              "['modelo_enrenado.pkl']"
            ]
          },
          "metadata": {
            "tags": []
          },
          "execution_count": 10
        }
      ]
    },
    {
      "cell_type": "markdown",
      "metadata": {
        "id": "MirDDhvDR1IU",
        "colab_type": "text"
      },
      "source": [
        "Así de sencillo ha sido exportar nuestro modelo. "
      ]
    },
    {
      "cell_type": "code",
      "metadata": {
        "id": "jYpCPL5dQ-UI",
        "colab_type": "code",
        "colab": {}
      },
      "source": [
        ""
      ],
      "execution_count": null,
      "outputs": []
    }
  ]
}